{
 "cells": [
  {
   "cell_type": "markdown",
   "source": [
    "# Computation of $\\mathbb{D}_{\\langle 2r \\rangle \\alpha}$ tensors\r\n",
    "\r\n",
    "* Author: Mauricio Fernández\r\n",
    "* Last update: 2021-10-05\r\n",
    "\r\n",
    "Table of contents\r\n",
    "\r\n",
    "* [1. Example for r = 2](#1.-Example-for-r=2)\r\n",
    "* [2. Example for r = 3](#2.-Example-for-r=3)\r\n",
    "* [3. List of available tensors and loading](#3.-List-of-available-tensors-and-loading)"
   ],
   "metadata": {}
  },
  {
   "cell_type": "markdown",
   "source": [
    "## Description\n",
    "The present notebook demonstrates FIXME."
   ],
   "metadata": {}
  },
  {
   "cell_type": "code",
   "execution_count": 1,
   "source": [
    "import numpy as np\r\n",
    "\r\n",
    "import odf_cen_av.d_tensors as dt\r\n",
    "import odf_cen_av.tensor_numpy as tn"
   ],
   "outputs": [],
   "metadata": {}
  },
  {
   "cell_type": "markdown",
   "source": [
    "## 1. Example for r=2"
   ],
   "metadata": {}
  },
  {
   "cell_type": "markdown",
   "source": [
    "For $r=2$, compute tensors $\\mathbb{D}_{\\langle 2r \\rangle \\alpha}$ based on numerical integration for $\\alpha = 0,1,\\dots,r$, i.e., $\\mathbb{D}_{\\langle 4 \\rangle 0}$, $\\mathbb{D}_{\\langle 4 \\rangle 1}$ and $\\mathbb{D}_{\\langle 4 \\rangle 2}$. The matrix `Dv` contains the tensors as flattened vectors in its columns."
   ],
   "metadata": {}
  },
  {
   "cell_type": "code",
   "execution_count": 2,
   "source": [
    "r = 2\r\n",
    "Dv = dt.Dv_compute(r)\r\n",
    "print(Dv.shape)"
   ],
   "outputs": [
    {
     "output_type": "stream",
     "name": "stdout",
     "text": [
      "...Loading permutation basis\n",
      "2021-10-06 00:13:21.899250\n",
      "...Constructing basis\n",
      "2021-10-06 00:13:21.909237\n",
      "...Computing ONB\n",
      "2021-10-06 00:13:21.909237\n",
      "...Computing integrals\n",
      "2021-10-06 00:13:21.909237\n",
      "...Done\n",
      "2021-10-06 00:13:21.961139\n",
      "(81, 3)\n"
     ]
    }
   ],
   "metadata": {}
  },
  {
   "cell_type": "markdown",
   "source": [
    "Reshape to full tensors (index $\\alpha$ is then first index in `Ds`)."
   ],
   "metadata": {}
  },
  {
   "cell_type": "code",
   "execution_count": 3,
   "source": [
    "Ds = Dv.T.reshape([-1] + (2*r)*[3,])\r\n",
    "Ds.shape"
   ],
   "outputs": [
    {
     "output_type": "execute_result",
     "data": {
      "text/plain": [
       "(3, 3, 3, 3, 3)"
      ]
     },
     "metadata": {},
     "execution_count": 3
    }
   ],
   "metadata": {}
  },
  {
   "cell_type": "markdown",
   "source": [
    "Check that computed tensors match the known analytical results for $r=2$, i.e., $\\mathbb{D}_{\\langle 4 \\rangle 0} = \\mathbb{I}_{\\langle 4 \\rangle}^\\mathrm{iso}$ (identity on isotropic 2nd-order tensors), $\\mathbb{D}_{\\langle 4 \\rangle 1} = \\mathbb{I}_{\\langle 4 \\rangle}^\\mathrm{a}$ (identity on anti-symmetric 2nd-order tensors) and\n",
    "$\\mathbb{D}_{\\langle 4 \\rangle 2} = \\mathbb{I}_{\\langle 4 \\rangle}^\\mathrm{h}$ (identity on harmonic 2nd-order tensors)."
   ],
   "metadata": {}
  },
  {
   "cell_type": "code",
   "execution_count": 4,
   "source": [
    "IdI = tn.tp(tn.I2,tn.I2)\r\n",
    "Iiso = IdI/3\r\n",
    "I4 = np.transpose(IdI,(0,2,1,3))\r\n",
    "Is = (I4+np.transpose(I4,(0,1,3,2)))/2\r\n",
    "Ia = (I4-np.transpose(I4,(0,1,3,2)))/2\r\n",
    "Ih = Is-Iiso\r\n",
    "print('Deviation of D_{<4>0} from Iiso:\\t%.4e' % tn.nf(Ds[0]-Iiso))\r\n",
    "print('Deviation of D_{<4>1} from Ia:\\t\\t%.4e' % tn.nf(Ds[1]-Ia))\r\n",
    "print('Deviation of D_{<4>2} from Ih:\\t\\t%.4e' % tn.nf(Ds[2]-Ih))"
   ],
   "outputs": [
    {
     "output_type": "stream",
     "name": "stdout",
     "text": [
      "Deviation of D_{<4>0} from Iiso:\t1.5114e-16\n",
      "Deviation of D_{<4>1} from Ia:\t\t4.0020e-16\n",
      "Deviation of D_{<4>2} from Ih:\t\t4.9092e-16\n"
     ]
    }
   ],
   "metadata": {}
  },
  {
   "cell_type": "markdown",
   "source": [
    "## 2. Example for r=3"
   ],
   "metadata": {}
  },
  {
   "cell_type": "markdown",
   "source": [
    "Compute"
   ],
   "metadata": {}
  },
  {
   "cell_type": "code",
   "execution_count": 5,
   "source": [
    "r = 3\r\n",
    "Dv = dt.Dv_compute(r)\r\n",
    "Ds = Dv.T.reshape([-1] + (2*r)*[3,])"
   ],
   "outputs": [
    {
     "output_type": "stream",
     "name": "stdout",
     "text": [
      "...Loading permutation basis\n",
      "2021-10-06 00:13:22.412204\n",
      "...Constructing basis\n",
      "2021-10-06 00:13:22.414227\n",
      "...Computing ONB\n",
      "2021-10-06 00:13:22.414227\n",
      "...Computing integrals\n",
      "2021-10-06 00:13:22.414227\n",
      "...Done\n",
      "2021-10-06 00:13:23.207198\n"
     ]
    }
   ],
   "metadata": {}
  },
  {
   "cell_type": "markdown",
   "source": [
    "Check that tensors $\\mathbb{D}_{\\langle 2r \\rangle \\alpha}$ are orthogonal, NOT normalized. The terms on the diagonal of `m` correspond to $\\mathbb{D}_{\\langle 2r \\rangle \\alpha} \\cdot \\mathbb{D}_{\\langle 2r \\rangle \\alpha}$, which reflects the dimension of the corresponding eigenspace, for which $\\mathbb{D}_{\\langle 2r \\rangle \\alpha}$ is the corresponding projector."
   ],
   "metadata": {}
  },
  {
   "cell_type": "code",
   "execution_count": 6,
   "source": [
    "m = np.array([[tn.sp(D1, D2) for D2 in Ds] for D1 in Ds])\r\n",
    "print(m)"
   ],
   "outputs": [
    {
     "output_type": "stream",
     "name": "stdout",
     "text": [
      "[[ 1.00000000e+00  4.53876318e-16 -4.99600361e-16 -2.42222669e-15]\n",
      " [ 4.53876318e-16  9.00000000e+00 -4.44089210e-16  4.44089210e-16]\n",
      " [-4.99600361e-16 -4.44089210e-16  1.00000000e+01  2.66453526e-15]\n",
      " [-2.42222669e-15  4.44089210e-16  2.66453526e-15  7.00000000e+00]]\n"
     ]
    }
   ],
   "metadata": {}
  },
  {
   "cell_type": "markdown",
   "source": [
    "The trace of `m` then reflects the dimension of the space of $r$-th-order tensors, i.e., $3^r$."
   ],
   "metadata": {}
  },
  {
   "cell_type": "code",
   "execution_count": 7,
   "source": [
    "np.trace(m) == 3**r"
   ],
   "outputs": [
    {
     "output_type": "execute_result",
     "data": {
      "text/plain": [
       "True"
      ]
     },
     "metadata": {},
     "execution_count": 7
    }
   ],
   "metadata": {}
  },
  {
   "cell_type": "markdown",
   "source": [
    "## 3. List of available tensors and loading"
   ],
   "metadata": {}
  },
  {
   "cell_type": "markdown",
   "source": [
    "Print list of available tensors in database."
   ],
   "metadata": {}
  },
  {
   "cell_type": "code",
   "execution_count": 8,
   "source": [
    "paths = dt.Dv_list()"
   ],
   "outputs": [
    {
     "output_type": "stream",
     "name": "stdout",
     "text": [
      "List of available Dv:\n",
      "\todf_cen_av/data/Dv4.txt\n",
      "\todf_cen_av/data/Dv6.txt\n",
      "\todf_cen_av/data/Dv8.txt\n",
      "\todf_cen_av/data/Dv10.txt\n",
      "\todf_cen_av/data/Dv12.txt\n"
     ]
    }
   ],
   "metadata": {}
  },
  {
   "cell_type": "markdown",
   "source": [
    "Check if tensors exists in database."
   ],
   "metadata": {}
  },
  {
   "cell_type": "code",
   "execution_count": 9,
   "source": [
    "r = 3\r\n",
    "check = dt.Dv_exist(r)\r\n",
    "print(check)"
   ],
   "outputs": [
    {
     "output_type": "stream",
     "name": "stdout",
     "text": [
      "True\n"
     ]
    }
   ],
   "metadata": {}
  },
  {
   "cell_type": "code",
   "execution_count": 10,
   "source": [
    "r = 7\r\n",
    "check = dt.Dv_exist(r)\r\n",
    "print(check)"
   ],
   "outputs": [
    {
     "output_type": "stream",
     "name": "stdout",
     "text": [
      "...corresponding Dv NOT available.\n",
      "\tGenerate and save first.\n",
      "List of available Dv:\n",
      "\todf_cen_av/data/Dv4.txt\n",
      "\todf_cen_av/data/Dv6.txt\n",
      "\todf_cen_av/data/Dv8.txt\n",
      "\todf_cen_av/data/Dv10.txt\n",
      "\todf_cen_av/data/Dv12.txt\n",
      "False\n"
     ]
    }
   ],
   "metadata": {}
  },
  {
   "cell_type": "markdown",
   "source": [
    "Load."
   ],
   "metadata": {}
  },
  {
   "cell_type": "code",
   "execution_count": 11,
   "source": [
    "r = 4\r\n",
    "Dv = dt.Dv_load(r)\r\n",
    "print(Dv.shape)\r\n",
    "print((3**(2*r), r+1))"
   ],
   "outputs": [
    {
     "output_type": "stream",
     "name": "stdout",
     "text": [
      "(6561, 5)\n",
      "(6561, 5)\n"
     ]
    }
   ],
   "metadata": {}
  },
  {
   "cell_type": "code",
   "execution_count": null,
   "source": [],
   "outputs": [],
   "metadata": {}
  }
 ],
 "metadata": {
  "kernelspec": {
   "name": "python3",
   "display_name": "Python 3.9.7 64-bit ('codf': conda)"
  },
  "language_info": {
   "codemirror_mode": {
    "name": "ipython",
    "version": 3
   },
   "file_extension": ".py",
   "mimetype": "text/x-python",
   "name": "python",
   "nbconvert_exporter": "python",
   "pygments_lexer": "ipython3",
   "version": "3.9.7"
  },
  "interpreter": {
   "hash": "ffcaa4669b97f765b02df1f6966c48b02b9fcf5eb0eb49575f6e8d3925a363e5"
  }
 },
 "nbformat": 4,
 "nbformat_minor": 4
}