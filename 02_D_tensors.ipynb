{
 "cells": [
  {
   "cell_type": "markdown",
   "metadata": {},
   "source": [
    "# Demo 2: Computation of $\\mathbb{D}_{\\langle 2r \\rangle \\alpha}$ tensors\n",
    "\n",
    "* Author: Mauricio Fernández\n",
    "* Last update: 2020-06-14\n",
    "\n",
    "Table of contents\n",
    "\n",
    "* [1. Example for r = 2](#1.-Example-for-r=2)\n",
    "* [2. Example for r = 3](#2.-Example-for-r=3)\n",
    "* [3. List of available tensors and loading](#3.-List-of-available-tensors-and-loading)"
   ]
  },
  {
   "cell_type": "markdown",
   "metadata": {},
   "source": [
    "## Description\n",
    "The present notebook demonstrates FIXME."
   ]
  },
  {
   "cell_type": "code",
   "execution_count": 1,
   "metadata": {},
   "outputs": [],
   "source": [
    "import numpy as np\n",
    "\n",
    "import src.CentralODFAverage as cen\n",
    "import src.TensorCalculusNumpy as tn"
   ]
  },
  {
   "cell_type": "markdown",
   "metadata": {},
   "source": [
    "## 1. Example for r=2"
   ]
  },
  {
   "cell_type": "markdown",
   "metadata": {},
   "source": [
    "For $r=2$, compute tensors $\\mathbb{D}_{\\langle 2r \\rangle \\alpha}$ based on numerical integration for $\\alpha = 0,1,\\dots,r$, i.e., $\\mathbb{D}_{\\langle 4 \\rangle 0}$, $\\mathbb{D}_{\\langle 4 \\rangle 1}$ and $\\mathbb{D}_{\\langle 4 \\rangle 2}$. The matrix `Dv` contains the tensors as flattened vectors in its columns."
   ]
  },
  {
   "cell_type": "code",
   "execution_count": 2,
   "metadata": {},
   "outputs": [
    {
     "name": "stdout",
     "output_type": "stream",
     "text": [
      "...Loading permutation basis\n",
      "2020-06-30 22:52:43.929872\n",
      "...Constructing basis\n",
      "2020-06-30 22:52:43.950717\n",
      "...Computing ONB\n",
      "2020-06-30 22:52:43.950717\n",
      "...Computing integrals\n",
      "2020-06-30 22:52:43.967531\n",
      "...Done\n",
      "2020-06-30 22:52:44.078568\n",
      "(81, 3)\n"
     ]
    }
   ],
   "source": [
    "r = 2\n",
    "Dv = cen.Dv_compute(r)\n",
    "print(Dv.shape)"
   ]
  },
  {
   "cell_type": "markdown",
   "metadata": {},
   "source": [
    "Reshape to full tensors (index $\\alpha$ is then first index in `Ds`)."
   ]
  },
  {
   "cell_type": "code",
   "execution_count": 3,
   "metadata": {},
   "outputs": [
    {
     "data": {
      "text/plain": [
       "(3, 3, 3, 3, 3)"
      ]
     },
     "execution_count": 3,
     "metadata": {},
     "output_type": "execute_result"
    }
   ],
   "source": [
    "Ds = Dv.T.reshape([-1] + (2*r)*[3,])\n",
    "Ds.shape"
   ]
  },
  {
   "cell_type": "markdown",
   "metadata": {},
   "source": [
    "Check that computed tensors match the known analytical results for $r=2$, i.e., $\\mathbb{D}_{\\langle 4 \\rangle 0} = \\mathbb{I}_{\\langle 4 \\rangle}^\\mathrm{iso}$ (identity on isotropic 2nd-order tensors), $\\mathbb{D}_{\\langle 4 \\rangle 1} = \\mathbb{I}_{\\langle 4 \\rangle}^\\mathrm{a}$ (identity on anti-symmetric 2nd-order tensors) and\n",
    "$\\mathbb{D}_{\\langle 4 \\rangle 2} = \\mathbb{I}_{\\langle 4 \\rangle}^\\mathrm{h}$ (identity on harmonic 2nd-order tensors)."
   ]
  },
  {
   "cell_type": "code",
   "execution_count": 4,
   "metadata": {},
   "outputs": [
    {
     "name": "stdout",
     "output_type": "stream",
     "text": [
      "Deviation of D_{<4>0} from Iiso:\t1.7416e-16\n",
      "Deviation of D_{<4>1} from Ia:\t\t3.9950e-16\n",
      "Deviation of D_{<4>2} from Ih:\t\t2.7459e-16\n"
     ]
    }
   ],
   "source": [
    "IdI = tn.tp(tn.I2,tn.I2)\n",
    "Iiso = IdI/3\n",
    "I4 = np.transpose(IdI,(0,2,1,3))\n",
    "Is = (I4+np.transpose(I4,(0,1,3,2)))/2\n",
    "Ia = (I4-np.transpose(I4,(0,1,3,2)))/2\n",
    "Ih = Is-Iiso\n",
    "print('Deviation of D_{<4>0} from Iiso:\\t%.4e' % tn.nf(Ds[0]-Iiso))\n",
    "print('Deviation of D_{<4>1} from Ia:\\t\\t%.4e' % tn.nf(Ds[1]-Ia))\n",
    "print('Deviation of D_{<4>2} from Ih:\\t\\t%.4e' % tn.nf(Ds[2]-Ih))"
   ]
  },
  {
   "cell_type": "markdown",
   "metadata": {},
   "source": [
    "## 2. Example for r=3"
   ]
  },
  {
   "cell_type": "markdown",
   "metadata": {},
   "source": [
    "Compute"
   ]
  },
  {
   "cell_type": "code",
   "execution_count": 5,
   "metadata": {},
   "outputs": [
    {
     "name": "stdout",
     "output_type": "stream",
     "text": [
      "...Loading permutation basis\n",
      "2020-06-30 22:52:44.244723\n",
      "...Constructing basis\n",
      "2020-06-30 22:52:44.267884\n",
      "...Computing ONB\n",
      "2020-06-30 22:52:44.270906\n",
      "...Computing integrals\n",
      "2020-06-30 22:52:44.275374\n",
      "...Done\n",
      "2020-06-30 22:52:45.597813\n"
     ]
    }
   ],
   "source": [
    "r = 3\n",
    "Dv = cen.Dv_compute(r)\n",
    "Ds = Dv.T.reshape([-1] + (2*r)*[3,])"
   ]
  },
  {
   "cell_type": "markdown",
   "metadata": {},
   "source": [
    "Check that tensors $\\mathbb{D}_{\\langle 2r \\rangle \\alpha}$ are orthogonal, NOT normalized. The terms on the diagonal of `m` correspond to $\\mathbb{D}_{\\langle 2r \\rangle \\alpha} \\cdot \\mathbb{D}_{\\langle 2r \\rangle \\alpha}$, which reflects the dimension of the corresponding eigenspace, for which $\\mathbb{D}_{\\langle 2r \\rangle \\alpha}$ is the corresponding projector."
   ]
  },
  {
   "cell_type": "code",
   "execution_count": 6,
   "metadata": {},
   "outputs": [
    {
     "name": "stdout",
     "output_type": "stream",
     "text": [
      "[[ 1.00000000e+00  6.99362745e-16 -7.77156117e-16 -1.69040176e-15]\n",
      " [ 6.99362745e-16  9.00000000e+00 -3.22311622e-15  1.38777878e-15]\n",
      " [-7.77156117e-16 -3.22311622e-15  1.00000000e+01 -1.07552856e-15]\n",
      " [-1.69040176e-15  1.38777878e-15 -1.07552856e-15  7.00000000e+00]]\n"
     ]
    }
   ],
   "source": [
    "m = np.array([[tn.sp(D1, D2) for D2 in Ds] for D1 in Ds])\n",
    "print(m)"
   ]
  },
  {
   "cell_type": "markdown",
   "metadata": {},
   "source": [
    "The trace of `m` then reflects the dimension of the space of $r$-th-order tensors, i.e., $3^r$."
   ]
  },
  {
   "cell_type": "code",
   "execution_count": 7,
   "metadata": {},
   "outputs": [
    {
     "data": {
      "text/plain": [
       "True"
      ]
     },
     "execution_count": 7,
     "metadata": {},
     "output_type": "execute_result"
    }
   ],
   "source": [
    "np.trace(m) == 3**r"
   ]
  },
  {
   "cell_type": "markdown",
   "metadata": {},
   "source": [
    "## 3. List of available tensors and loading"
   ]
  },
  {
   "cell_type": "markdown",
   "metadata": {},
   "source": [
    "Print list of available tensors in database."
   ]
  },
  {
   "cell_type": "code",
   "execution_count": 8,
   "metadata": {},
   "outputs": [
    {
     "name": "stdout",
     "output_type": "stream",
     "text": [
      "List of available Dv:\n",
      "\tsrc/data/Dv4.txt\n",
      "\tsrc/data/Dv6.txt\n",
      "\tsrc/data/Dv8.txt\n",
      "\tsrc/data/Dv10.txt\n",
      "\tsrc/data/Dv12.txt\n"
     ]
    }
   ],
   "source": [
    "paths = cen.Dv_list()"
   ]
  },
  {
   "cell_type": "markdown",
   "metadata": {},
   "source": [
    "Check if tensors exists in database."
   ]
  },
  {
   "cell_type": "code",
   "execution_count": 9,
   "metadata": {},
   "outputs": [
    {
     "name": "stdout",
     "output_type": "stream",
     "text": [
      "True\n"
     ]
    }
   ],
   "source": [
    "r = 3\n",
    "check = cen.Dv_exist(r)\n",
    "print(check)"
   ]
  },
  {
   "cell_type": "code",
   "execution_count": 10,
   "metadata": {},
   "outputs": [
    {
     "name": "stdout",
     "output_type": "stream",
     "text": [
      "...corresponding Dv NOT available.\n",
      "\tGenerate and save first.\n",
      "List of available Dv:\n",
      "\tsrc/data/Dv4.txt\n",
      "\tsrc/data/Dv6.txt\n",
      "\tsrc/data/Dv8.txt\n",
      "\tsrc/data/Dv10.txt\n",
      "\tsrc/data/Dv12.txt\n",
      "False\n"
     ]
    }
   ],
   "source": [
    "r = 7\n",
    "check = cen.Dv_exist(r)\n",
    "print(check)"
   ]
  },
  {
   "cell_type": "markdown",
   "metadata": {},
   "source": [
    "Load."
   ]
  },
  {
   "cell_type": "code",
   "execution_count": 11,
   "metadata": {},
   "outputs": [
    {
     "name": "stdout",
     "output_type": "stream",
     "text": [
      "(6561, 5)\n",
      "(6561, 5)\n"
     ]
    }
   ],
   "source": [
    "r = 4\n",
    "Dv = cen.Dv_load(r)\n",
    "print(Dv.shape)\n",
    "print((3**(2*r), r+1))"
   ]
  },
  {
   "cell_type": "code",
   "execution_count": null,
   "metadata": {},
   "outputs": [],
   "source": []
  }
 ],
 "metadata": {
  "kernelspec": {
   "display_name": "Python 3",
   "language": "python",
   "name": "python3"
  },
  "language_info": {
   "codemirror_mode": {
    "name": "ipython",
    "version": 3
   },
   "file_extension": ".py",
   "mimetype": "text/x-python",
   "name": "python",
   "nbconvert_exporter": "python",
   "pygments_lexer": "ipython3",
   "version": "3.7.7"
  }
 },
 "nbformat": 4,
 "nbformat_minor": 4
}
