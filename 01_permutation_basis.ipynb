{
 "cells": [
  {
   "cell_type": "markdown",
   "metadata": {},
   "source": [
    "\n",
    "# Generation of a permutation basis\n",
    "\n",
    "* Author: Mauricio Fernández\n",
    "* Last update: 2020-06-14\n",
    "\n",
    "Table of contents\n",
    "\n",
    "* [1. Example for n = 6](#1.-Example-for-n=6)\n",
    "* [2. Load basis](#2.-Load-basis)"
   ]
  },
  {
   "cell_type": "markdown",
   "metadata": {},
   "source": [
    "## Description\n",
    "The present notebook demonstrates the generation of permutation basis for spaces of isotropic tensor of order $n$ in 3D. A small database with permutation bases up to $n = 12$ is available, from which bases can be loaded."
   ]
  },
  {
   "cell_type": "code",
   "execution_count": 1,
   "metadata": {},
   "outputs": [],
   "source": [
    "import numpy as np\n",
    "\n",
    "import src.CentralODFAverage as cen\n",
    "import src.TensorCalculusNumpy as tn"
   ]
  },
  {
   "cell_type": "markdown",
   "metadata": {},
   "source": [
    "## 1. Example for n=6"
   ]
  },
  {
   "cell_type": "markdown",
   "metadata": {},
   "source": [
    "For $n=6$, return the dimension of the space of isotropic tensors."
   ]
  },
  {
   "cell_type": "code",
   "execution_count": 2,
   "metadata": {},
   "outputs": [
    {
     "name": "stdout",
     "output_type": "stream",
     "text": [
      "15\n"
     ]
    }
   ],
   "source": [
    "n = 6\n",
    "d = tn.diso(n)\n",
    "print(d)"
   ]
  },
  {
   "cell_type": "markdown",
   "metadata": {},
   "source": [
    "Generate a permutation basis based on the random generation strategy."
   ]
  },
  {
   "cell_type": "code",
   "execution_count": 3,
   "metadata": {},
   "outputs": [
    {
     "name": "stdout",
     "output_type": "stream",
     "text": [
      "[[4 2 0 1 3 5]\n",
      " [3 0 5 4 2 1]\n",
      " [5 0 3 1 2 4]\n",
      " [1 4 3 0 2 5]\n",
      " [4 0 3 1 5 2]\n",
      " [4 1 2 5 0 3]\n",
      " [1 3 2 4 5 0]\n",
      " [2 5 3 0 1 4]\n",
      " [5 4 0 2 3 1]\n",
      " [4 2 3 0 5 1]\n",
      " [5 2 4 0 3 1]\n",
      " [4 5 1 3 0 2]\n",
      " [0 2 3 1 5 4]\n",
      " [3 0 2 1 4 5]\n",
      " [0 1 2 3 4 5]]\n"
     ]
    }
   ],
   "source": [
    "P = cen.pbasis_random(n)\n",
    "print(P)"
   ]
  },
  {
   "cell_type": "markdown",
   "metadata": {},
   "source": [
    "Generate basic isotropic tensor for $n=6$: $B_{ijklmn} = \\delta_{ij}\\delta_{kl}\\delta_{mn}$ corresponds to `B`"
   ]
  },
  {
   "cell_type": "code",
   "execution_count": 4,
   "metadata": {},
   "outputs": [
    {
     "name": "stdout",
     "output_type": "stream",
     "text": [
      "(3, 3, 3, 3, 3, 3)\n"
     ]
    }
   ],
   "source": [
    "B = tn.Biso(n)\n",
    "print(B.shape)"
   ]
  },
  {
   "cell_type": "markdown",
   "metadata": {},
   "source": [
    "Based on permutation basis `P` from above, compute metric matrix and return determinant. The determinant of the generated set of isotropic tensors does not vanish, i.e., the set is a basis of the space of isotropic tensors for $n=6$."
   ]
  },
  {
   "cell_type": "code",
   "execution_count": 5,
   "metadata": {},
   "outputs": [
    {
     "name": "stdout",
     "output_type": "stream",
     "text": [
      "[[27.  9.  9.  3.  3.  9.  9.  3.  3.  3.  9.  3.  3.  3.  9.]\n",
      " [ 9. 27.  3.  9.  9.  3.  3.  9.  3.  9.  3.  3.  3.  3.  9.]\n",
      " [ 9.  3. 27.  9.  9.  3.  9.  3.  3.  3.  3.  9.  3.  9.  3.]\n",
      " [ 3.  9.  9. 27.  3.  9.  3.  9.  3.  3.  3.  9.  9.  3.  3.]\n",
      " [ 3.  9.  9.  3. 27.  9.  3.  3.  9.  9.  3.  3.  3.  9.  3.]\n",
      " [ 9.  3.  3.  9.  9. 27.  3.  3.  9.  3.  9.  3.  9.  3.  3.]\n",
      " [ 9.  3.  9.  3.  3.  3. 27.  9.  9.  9.  3.  3.  9.  3.  3.]\n",
      " [ 3.  9.  3.  9.  3.  3.  9. 27.  9.  3.  9.  3.  3.  9.  3.]\n",
      " [ 3.  3.  3.  3.  9.  9.  9.  9. 27.  3.  3.  9.  3.  3.  9.]\n",
      " [ 3.  9.  3.  3.  9.  3.  9.  3.  3. 27.  9.  9.  9.  3.  3.]\n",
      " [ 9.  3.  3.  3.  3.  9.  3.  9.  3.  9. 27.  9.  3.  9.  3.]\n",
      " [ 3.  3.  9.  9.  3.  3.  3.  3.  9.  9.  9. 27.  3.  3.  9.]\n",
      " [ 3.  3.  3.  9.  3.  9.  9.  3.  3.  9.  3.  3. 27.  9.  9.]\n",
      " [ 3.  3.  9.  3.  9.  3.  3.  9.  3.  3.  9.  3.  9. 27.  9.]\n",
      " [ 9.  9.  3.  3.  3.  3.  3.  3.  9.  3.  3.  9.  9.  9. 27.]]\n",
      "1.607077583999999e+19\n"
     ]
    }
   ],
   "source": [
    "m = np.array([\n",
    "    [tn.sp(np.transpose(B, p1), np.transpose(B, p2)) for p2 in P]\n",
    "    for p1 in P\n",
    "])\n",
    "print(m)\n",
    "print(np.linalg.det(m))"
   ]
  },
  {
   "cell_type": "markdown",
   "metadata": {},
   "source": [
    "Alternative function for same check. Option `info=True` prints the computed determinant."
   ]
  },
  {
   "cell_type": "code",
   "execution_count": 6,
   "metadata": {},
   "outputs": [
    {
     "name": "stdout",
     "output_type": "stream",
     "text": [
      "...Computed determinant:\n",
      "1.607077583999999e+19\n"
     ]
    },
    {
     "data": {
      "text/plain": [
       "True"
      ]
     },
     "execution_count": 6,
     "metadata": {},
     "output_type": "execute_result"
    }
   ],
   "source": [
    "cen.pbasis_check_det(P, info=True)"
   ]
  },
  {
   "cell_type": "markdown",
   "metadata": {},
   "source": [
    "Save generate permutation basis to database"
   ]
  },
  {
   "cell_type": "code",
   "execution_count": 7,
   "metadata": {},
   "outputs": [
    {
     "name": "stdout",
     "output_type": "stream",
     "text": [
      "...saved src/data/pbasis6.txt\n",
      "src/data/pbasis6.txt\n"
     ]
    }
   ],
   "source": [
    "path = cen.pbasis_save(P)\n",
    "print(path)"
   ]
  },
  {
   "cell_type": "markdown",
   "metadata": {},
   "source": [
    "## 2. Load basis"
   ]
  },
  {
   "cell_type": "markdown",
   "metadata": {},
   "source": [
    "See list of available permutation bases."
   ]
  },
  {
   "cell_type": "code",
   "execution_count": 8,
   "metadata": {},
   "outputs": [
    {
     "name": "stdout",
     "output_type": "stream",
     "text": [
      "List of available permutation bases:\n",
      "\tsrc/data/pbasis4.txt\n",
      "\tsrc/data/pbasis5.txt\n",
      "\tsrc/data/pbasis6.txt\n",
      "\tsrc/data/pbasis7.txt\n",
      "\tsrc/data/pbasis8.txt\n",
      "\tsrc/data/pbasis9.txt\n",
      "\tsrc/data/pbasis10.txt\n",
      "\tsrc/data/pbasis11.txt\n",
      "\tsrc/data/pbasis12.txt\n",
      "['src/data/pbasis4.txt', 'src/data/pbasis5.txt', 'src/data/pbasis6.txt', 'src/data/pbasis7.txt', 'src/data/pbasis8.txt', 'src/data/pbasis9.txt', 'src/data/pbasis10.txt', 'src/data/pbasis11.txt', 'src/data/pbasis12.txt']\n"
     ]
    }
   ],
   "source": [
    "paths = cen.pbasis_list()\n",
    "print(paths)"
   ]
  },
  {
   "cell_type": "markdown",
   "metadata": {},
   "source": [
    "For `n`, load permutation basis, if available."
   ]
  },
  {
   "cell_type": "code",
   "execution_count": 9,
   "metadata": {},
   "outputs": [
    {
     "name": "stdout",
     "output_type": "stream",
     "text": [
      "(91, 8)\n"
     ]
    }
   ],
   "source": [
    "n = 8\n",
    "P = cen.pbasis_load(n)\n",
    "print(P.shape)"
   ]
  },
  {
   "cell_type": "markdown",
   "metadata": {},
   "source": [
    "Check if the generated set of isotropic tensors for on `P` for `n` yields a basis (based on determinant of metric matrix)."
   ]
  },
  {
   "cell_type": "code",
   "execution_count": 10,
   "metadata": {},
   "outputs": [
    {
     "data": {
      "text/plain": [
       "True"
      ]
     },
     "execution_count": 10,
     "metadata": {},
     "output_type": "execute_result"
    }
   ],
   "source": [
    "cen.pbasis_check_det(P)"
   ]
  },
  {
   "cell_type": "code",
   "execution_count": null,
   "metadata": {},
   "outputs": [],
   "source": []
  }
 ],
 "metadata": {
  "kernelspec": {
   "display_name": "Python 3",
   "language": "python",
   "name": "python3"
  },
  "language_info": {
   "codemirror_mode": {
    "name": "ipython",
    "version": 3
   },
   "file_extension": ".py",
   "mimetype": "text/x-python",
   "name": "python",
   "nbconvert_exporter": "python",
   "pygments_lexer": "ipython3",
   "version": "3.7.7"
  }
 },
 "nbformat": 4,
 "nbformat_minor": 4
}
