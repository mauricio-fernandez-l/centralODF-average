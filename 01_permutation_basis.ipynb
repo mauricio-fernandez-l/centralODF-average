{
 "cells": [
  {
   "cell_type": "markdown",
   "source": [
    "# Generation of a permutation basis\r\n",
    "\r\n",
    "* Author: Mauricio Fernández\r\n",
    "* Last update: 2021-10-05\r\n",
    "\r\n",
    "Table of contents\r\n",
    "\r\n",
    "* [1. Example for n = 6](#1.-Example-for-n=6)\r\n",
    "* [2. Load basis](#2.-Load-basis)"
   ],
   "metadata": {}
  },
  {
   "cell_type": "markdown",
   "source": [
    "## Description\r\n",
    "The present notebook demonstrates the generation of permutation bases for spaces of isotropic tensor of order $n$ in 3D. A small database with permutation bases up to $n = 12$ is available, from which bases can be loaded."
   ],
   "metadata": {}
  },
  {
   "cell_type": "code",
   "execution_count": 1,
   "source": [
    "import numpy as np\r\n",
    "\r\n",
    "import odf_cen_av.permutation_basis as pb\r\n",
    "import odf_cen_av.tensor_numpy as tn"
   ],
   "outputs": [],
   "metadata": {}
  },
  {
   "cell_type": "markdown",
   "source": [
    "## 1. Example for n=6"
   ],
   "metadata": {}
  },
  {
   "cell_type": "markdown",
   "source": [
    "For $n=6$, return the dimension of the space of isotropic tensors."
   ],
   "metadata": {}
  },
  {
   "cell_type": "code",
   "execution_count": 2,
   "source": [
    "n = 6\r\n",
    "d = tn.diso(n)\r\n",
    "print(d)"
   ],
   "outputs": [
    {
     "output_type": "stream",
     "name": "stdout",
     "text": [
      "15\n"
     ]
    }
   ],
   "metadata": {}
  },
  {
   "cell_type": "markdown",
   "source": [
    "Generate a permutation basis based on the random generation strategy."
   ],
   "metadata": {}
  },
  {
   "cell_type": "code",
   "execution_count": 3,
   "source": [
    "P = pb.random(n)\r\n",
    "print(P)"
   ],
   "outputs": [
    {
     "output_type": "stream",
     "name": "stdout",
     "text": [
      "[[3 5 0 1 4 2]\n",
      " [0 2 4 5 1 3]\n",
      " [4 0 2 1 3 5]\n",
      " [5 3 0 4 1 2]\n",
      " [1 2 5 3 0 4]\n",
      " [2 5 1 3 4 0]\n",
      " [3 4 5 1 0 2]\n",
      " [5 1 4 2 3 0]\n",
      " [5 4 2 1 0 3]\n",
      " [2 1 0 4 3 5]\n",
      " [2 4 3 0 5 1]\n",
      " [0 1 4 2 5 3]\n",
      " [0 3 2 1 4 5]\n",
      " [0 4 1 5 3 2]\n",
      " [4 5 2 3 0 1]]\n"
     ]
    }
   ],
   "metadata": {}
  },
  {
   "cell_type": "markdown",
   "source": [
    "Generate basic isotropic tensor for $n=6$: $B_{ijklmn} = \\delta_{ij}\\delta_{kl}\\delta_{mn}$ corresponds to `B`"
   ],
   "metadata": {}
  },
  {
   "cell_type": "code",
   "execution_count": 4,
   "source": [
    "B = tn.Biso(n)\r\n",
    "print(B.shape)"
   ],
   "outputs": [
    {
     "output_type": "stream",
     "name": "stdout",
     "text": [
      "(3, 3, 3, 3, 3, 3)\n"
     ]
    }
   ],
   "metadata": {}
  },
  {
   "cell_type": "markdown",
   "source": [
    "Based on permutation basis `P` from above, compute metric matrix and return determinant. The determinant of the generated set of isotropic tensors does not vanish, i.e., the set is a basis of the space of isotropic tensors for $n=6$."
   ],
   "metadata": {}
  },
  {
   "cell_type": "code",
   "execution_count": 5,
   "source": [
    "m = np.array([\r\n",
    "    [tn.sp(np.transpose(B, p1), np.transpose(B, p2)) for p2 in P]\r\n",
    "    for p1 in P\r\n",
    "])\r\n",
    "print(m)\r\n",
    "print(np.linalg.det(m))"
   ],
   "outputs": [
    {
     "output_type": "stream",
     "name": "stdout",
     "text": [
      "[[27.  9.  9.  3.  3.  9.  9.  3.  3.  3.  9.  3.  3.  3.  9.]\n",
      " [ 9. 27.  3.  9.  9.  3.  3.  9.  3.  9.  3.  3.  3.  3.  9.]\n",
      " [ 9.  3. 27.  9.  9.  3.  9.  3.  3.  3.  3.  9.  3.  9.  3.]\n",
      " [ 3.  9.  9. 27.  3.  9.  3.  9.  3.  3.  3.  9.  9.  3.  3.]\n",
      " [ 3.  9.  9.  3. 27.  9.  3.  3.  9.  9.  3.  3.  3.  9.  3.]\n",
      " [ 9.  3.  3.  9.  9. 27.  3.  3.  9.  3.  9.  3.  9.  3.  3.]\n",
      " [ 9.  3.  9.  3.  3.  3. 27.  9.  9.  9.  3.  3.  9.  3.  3.]\n",
      " [ 3.  9.  3.  9.  3.  3.  9. 27.  9.  3.  9.  3.  3.  9.  3.]\n",
      " [ 3.  3.  3.  3.  9.  9.  9.  9. 27.  3.  3.  9.  3.  3.  9.]\n",
      " [ 3.  9.  3.  3.  9.  3.  9.  3.  3. 27.  9.  9.  9.  3.  3.]\n",
      " [ 9.  3.  3.  3.  3.  9.  3.  9.  3.  9. 27.  9.  3.  9.  3.]\n",
      " [ 3.  3.  9.  9.  3.  3.  3.  3.  9.  9.  9. 27.  3.  3.  9.]\n",
      " [ 3.  3.  3.  9.  3.  9.  9.  3.  3.  9.  3.  3. 27.  9.  9.]\n",
      " [ 3.  3.  9.  3.  9.  3.  3.  9.  3.  3.  9.  3.  9. 27.  9.]\n",
      " [ 9.  9.  3.  3.  3.  3.  3.  3.  9.  3.  3.  9.  9.  9. 27.]]\n",
      "1.6070775839999875e+19\n"
     ]
    }
   ],
   "metadata": {}
  },
  {
   "cell_type": "markdown",
   "source": [
    "Alternative function for same check. Option `info=True` prints the computed determinant."
   ],
   "metadata": {}
  },
  {
   "cell_type": "code",
   "execution_count": 6,
   "source": [
    "pb.check_det(P, info=True)"
   ],
   "outputs": [
    {
     "output_type": "stream",
     "name": "stdout",
     "text": [
      "...Computed determinant:\n",
      "1.6070775839999875e+19\n"
     ]
    },
    {
     "output_type": "execute_result",
     "data": {
      "text/plain": [
       "True"
      ]
     },
     "metadata": {},
     "execution_count": 6
    }
   ],
   "metadata": {}
  },
  {
   "cell_type": "markdown",
   "source": [
    "Save generate permutation basis to database"
   ],
   "metadata": {}
  },
  {
   "cell_type": "code",
   "execution_count": 7,
   "source": [
    "path = pb.save_to_data(P)\r\n",
    "print(path)"
   ],
   "outputs": [
    {
     "output_type": "stream",
     "name": "stdout",
     "text": [
      "...saved odf_cen_av/data/pbasis6.txt\n",
      "odf_cen_av/data/pbasis6.txt\n"
     ]
    }
   ],
   "metadata": {}
  },
  {
   "cell_type": "markdown",
   "source": [
    "## 2. Load basis"
   ],
   "metadata": {}
  },
  {
   "cell_type": "markdown",
   "source": [
    "See list of available permutation bases."
   ],
   "metadata": {}
  },
  {
   "cell_type": "code",
   "execution_count": 8,
   "source": [
    "paths = pb.list_available()\r\n",
    "print(paths)"
   ],
   "outputs": [
    {
     "output_type": "stream",
     "name": "stdout",
     "text": [
      "List of available permutation bases:\n",
      "\todf_cen_av/data/pbasis4.txt\n",
      "\todf_cen_av/data/pbasis5.txt\n",
      "\todf_cen_av/data/pbasis6.txt\n",
      "\todf_cen_av/data/pbasis7.txt\n",
      "\todf_cen_av/data/pbasis8.txt\n",
      "\todf_cen_av/data/pbasis9.txt\n",
      "\todf_cen_av/data/pbasis10.txt\n",
      "\todf_cen_av/data/pbasis11.txt\n",
      "\todf_cen_av/data/pbasis12.txt\n",
      "['odf_cen_av/data/pbasis4.txt', 'odf_cen_av/data/pbasis5.txt', 'odf_cen_av/data/pbasis6.txt', 'odf_cen_av/data/pbasis7.txt', 'odf_cen_av/data/pbasis8.txt', 'odf_cen_av/data/pbasis9.txt', 'odf_cen_av/data/pbasis10.txt', 'odf_cen_av/data/pbasis11.txt', 'odf_cen_av/data/pbasis12.txt']\n"
     ]
    }
   ],
   "metadata": {}
  },
  {
   "cell_type": "markdown",
   "source": [
    "For `n`, load permutation basis, if available."
   ],
   "metadata": {}
  },
  {
   "cell_type": "code",
   "execution_count": 9,
   "source": [
    "n = 8\r\n",
    "P = pb.load(n)\r\n",
    "print(P.shape)"
   ],
   "outputs": [
    {
     "output_type": "stream",
     "name": "stdout",
     "text": [
      "(91, 8)\n"
     ]
    }
   ],
   "metadata": {}
  },
  {
   "cell_type": "markdown",
   "source": [
    "Check if the generated set of isotropic tensors for on `P` for `n` yields a basis (based on determinant of metric matrix)."
   ],
   "metadata": {}
  },
  {
   "cell_type": "code",
   "execution_count": 10,
   "source": [
    "pb.check_det(P)"
   ],
   "outputs": [
    {
     "output_type": "execute_result",
     "data": {
      "text/plain": [
       "True"
      ]
     },
     "metadata": {},
     "execution_count": 10
    }
   ],
   "metadata": {}
  },
  {
   "cell_type": "code",
   "execution_count": null,
   "source": [],
   "outputs": [],
   "metadata": {}
  }
 ],
 "metadata": {
  "kernelspec": {
   "name": "python3",
   "display_name": "Python 3.9.7 64-bit ('codf': conda)"
  },
  "language_info": {
   "codemirror_mode": {
    "name": "ipython",
    "version": 3
   },
   "file_extension": ".py",
   "mimetype": "text/x-python",
   "name": "python",
   "nbconvert_exporter": "python",
   "pygments_lexer": "ipython3",
   "version": "3.9.7"
  },
  "interpreter": {
   "hash": "ffcaa4669b97f765b02df1f6966c48b02b9fcf5eb0eb49575f6e8d3925a363e5"
  }
 },
 "nbformat": 4,
 "nbformat_minor": 4
}