{
 "cells": [
  {
   "cell_type": "markdown",
   "source": [
    "# Higher-order elasticity\n",
    "\n",
    "* Author: Mauricio Fernández\n",
    "* Last update: 2020-06-14\n",
    "\n",
    "Table of contents\n",
    "\n",
    "* [1. Example for C4](#1.-Example-for-C4)\n",
    "* [2. Example for C6](#2.-Example-for-C6)"
   ],
   "metadata": {}
  },
  {
   "cell_type": "markdown",
   "source": [
    "## Description\n",
    "The present notebook corresponds to the higher-order elasticity example for aluminum, see section 3.2 in published manuscript. In higher-order elasticity, stiffness tensors of not only fourth-order, but also sixth-order might be considered. Orientation averages of such tensors in polycrystalline materials require adequate treatment. The present notebook demonstrates how the results for central ODFs can be applied to such cases."
   ],
   "metadata": {}
  },
  {
   "cell_type": "code",
   "execution_count": 1,
   "source": [
    "import sympy as sym\r\n",
    "import numpy as np\r\n",
    "import datetime\r\n",
    "now = datetime.datetime.now\r\n",
    "\r\n",
    "import odf_cen_av.d_tensors as dt\r\n",
    "import odf_cen_av.tensor_numpy as tn\r\n",
    "import odf_cen_av.tensor_sympy as ts"
   ],
   "outputs": [],
   "metadata": {}
  },
  {
   "cell_type": "markdown",
   "source": [
    "## 1. Example for C4"
   ],
   "metadata": {}
  },
  {
   "cell_type": "markdown",
   "source": [
    "The following example corresponds to the example documented in section 3.2, see equation (82)."
   ],
   "metadata": {}
  },
  {
   "cell_type": "markdown",
   "source": [
    "Generate symbolic fourth-order tensor $\\tilde{\\mathbb{C}}_{\\langle r \\rangle}$ for $r=4$."
   ],
   "metadata": {}
  },
  {
   "cell_type": "code",
   "execution_count": 2,
   "source": [
    "C = ts.gent('c', 4)\r\n",
    "len(C.free_symbols)"
   ],
   "outputs": [
    {
     "output_type": "execute_result",
     "data": {
      "text/plain": [
       "81"
      ]
     },
     "metadata": {},
     "execution_count": 2
    }
   ],
   "metadata": {}
  },
  {
   "cell_type": "markdown",
   "source": [
    "Solve minor and major index symmetry conditions and rewrite $\\tilde{\\mathbb{C}}_{\\langle r \\rangle}$ accordingly."
   ],
   "metadata": {}
  },
  {
   "cell_type": "code",
   "execution_count": 3,
   "source": [
    "index_sym = [(1, 0, 2, 3), (2, 3, 0, 1)]\r\n",
    "for isym in index_sym:\r\n",
    "    C = ts.symmetrizeex(C, isym)\r\n",
    "    print(C == sym.permutedims(C, isym))"
   ],
   "outputs": [
    {
     "output_type": "stream",
     "name": "stdout",
     "text": [
      "True\n",
      "True\n"
     ]
    }
   ],
   "metadata": {}
  },
  {
   "cell_type": "markdown",
   "source": [
    "Current number of free components in $\\tilde{\\mathbb{C}}_{\\langle r \\rangle}$ (classical results for triclinic linear hyperelasticity)."
   ],
   "metadata": {}
  },
  {
   "cell_type": "code",
   "execution_count": 4,
   "source": [
    "len(C.free_symbols)"
   ],
   "outputs": [
    {
     "output_type": "execute_result",
     "data": {
      "text/plain": [
       "21"
      ]
     },
     "metadata": {},
     "execution_count": 4
    }
   ],
   "metadata": {}
  },
  {
   "cell_type": "markdown",
   "source": [
    "Solve group conditions for cubic group (tetrahedral group $O_h$ with 24 rotations)."
   ],
   "metadata": {}
  },
  {
   "cell_type": "code",
   "execution_count": 5,
   "source": [
    "C = ts.symmetrize_group(C, ts.sg_cub)\r\n",
    "print(C.free_symbols)\r\n",
    "C"
   ],
   "outputs": [
    {
     "output_type": "stream",
     "name": "stdout",
     "text": [
      "{c2222, c2211, c2121}\n"
     ]
    },
    {
     "output_type": "execute_result",
     "data": {
      "text/latex": [
       "$\\displaystyle \\left[\\begin{matrix}\\left[\\begin{matrix}c_{2222} & 0 & 0\\\\0 & c_{2211} & 0\\\\0 & 0 & c_{2211}\\end{matrix}\\right] & \\left[\\begin{matrix}0 & c_{2121} & 0\\\\c_{2121} & 0 & 0\\\\0 & 0 & 0\\end{matrix}\\right] & \\left[\\begin{matrix}0 & 0 & c_{2121}\\\\0 & 0 & 0\\\\c_{2121} & 0 & 0\\end{matrix}\\right]\\\\\\left[\\begin{matrix}0 & c_{2121} & 0\\\\c_{2121} & 0 & 0\\\\0 & 0 & 0\\end{matrix}\\right] & \\left[\\begin{matrix}c_{2211} & 0 & 0\\\\0 & c_{2222} & 0\\\\0 & 0 & c_{2211}\\end{matrix}\\right] & \\left[\\begin{matrix}0 & 0 & 0\\\\0 & 0 & c_{2121}\\\\0 & c_{2121} & 0\\end{matrix}\\right]\\\\\\left[\\begin{matrix}0 & 0 & c_{2121}\\\\0 & 0 & 0\\\\c_{2121} & 0 & 0\\end{matrix}\\right] & \\left[\\begin{matrix}0 & 0 & 0\\\\0 & 0 & c_{2121}\\\\0 & c_{2121} & 0\\end{matrix}\\right] & \\left[\\begin{matrix}c_{2211} & 0 & 0\\\\0 & c_{2211} & 0\\\\0 & 0 & c_{2222}\\end{matrix}\\right]\\end{matrix}\\right]$"
      ],
      "text/plain": [
       "[[[[c2222, 0, 0], [0, c2211, 0], [0, 0, c2211]], [[0, c2121, 0], [c2121, 0, 0], [0, 0, 0]], [[0, 0, c2121], [0, 0, 0], [c2121, 0, 0]]], [[[0, c2121, 0], [c2121, 0, 0], [0, 0, 0]], [[c2211, 0, 0], [0, c2222, 0], [0, 0, c2211]], [[0, 0, 0], [0, 0, c2121], [0, c2121, 0]]], [[[0, 0, c2121], [0, 0, 0], [c2121, 0, 0]], [[0, 0, 0], [0, 0, c2121], [0, c2121, 0]], [[c2211, 0, 0], [0, c2211, 0], [0, 0, c2222]]]]"
      ]
     },
     "metadata": {},
     "execution_count": 5
    }
   ],
   "metadata": {}
  },
  {
   "cell_type": "markdown",
   "source": [
    "Insert material data of aluminum."
   ],
   "metadata": {}
  },
  {
   "cell_type": "code",
   "execution_count": 6,
   "source": [
    "mat_data = {\r\n",
    "    C[0, 0, 0, 0]: 108, \r\n",
    "    C[1, 2, 1, 2]: 33, \r\n",
    "    C[0, 0, 1, 1]: 59\r\n",
    "}\r\n",
    "C = C.subs(mat_data)\r\n",
    "C"
   ],
   "outputs": [
    {
     "output_type": "execute_result",
     "data": {
      "text/latex": [
       "$\\displaystyle \\left[\\begin{matrix}\\left[\\begin{matrix}108 & 0 & 0\\\\0 & 59 & 0\\\\0 & 0 & 59\\end{matrix}\\right] & \\left[\\begin{matrix}0 & 33 & 0\\\\33 & 0 & 0\\\\0 & 0 & 0\\end{matrix}\\right] & \\left[\\begin{matrix}0 & 0 & 33\\\\0 & 0 & 0\\\\33 & 0 & 0\\end{matrix}\\right]\\\\\\left[\\begin{matrix}0 & 33 & 0\\\\33 & 0 & 0\\\\0 & 0 & 0\\end{matrix}\\right] & \\left[\\begin{matrix}59 & 0 & 0\\\\0 & 108 & 0\\\\0 & 0 & 59\\end{matrix}\\right] & \\left[\\begin{matrix}0 & 0 & 0\\\\0 & 0 & 33\\\\0 & 33 & 0\\end{matrix}\\right]\\\\\\left[\\begin{matrix}0 & 0 & 33\\\\0 & 0 & 0\\\\33 & 0 & 0\\end{matrix}\\right] & \\left[\\begin{matrix}0 & 0 & 0\\\\0 & 0 & 33\\\\0 & 33 & 0\\end{matrix}\\right] & \\left[\\begin{matrix}59 & 0 & 0\\\\0 & 59 & 0\\\\0 & 0 & 108\\end{matrix}\\right]\\end{matrix}\\right]$"
      ],
      "text/plain": [
       "[[[[108, 0, 0], [0, 59, 0], [0, 0, 59]], [[0, 33, 0], [33, 0, 0], [0, 0, 0]], [[0, 0, 33], [0, 0, 0], [33, 0, 0]]], [[[0, 33, 0], [33, 0, 0], [0, 0, 0]], [[59, 0, 0], [0, 108, 0], [0, 0, 59]], [[0, 0, 0], [0, 0, 33], [0, 33, 0]]], [[[0, 0, 33], [0, 0, 0], [33, 0, 0]], [[0, 0, 0], [0, 0, 33], [0, 33, 0]], [[59, 0, 0], [0, 59, 0], [0, 0, 108]]]]"
      ]
     },
     "metadata": {},
     "execution_count": 6
    }
   ],
   "metadata": {}
  },
  {
   "cell_type": "markdown",
   "source": [
    "Transform to np array."
   ],
   "metadata": {}
  },
  {
   "cell_type": "code",
   "execution_count": 7,
   "source": [
    "C = np.array(sym.flatten(C)).astype(float).reshape(4*[3,])\r\n",
    "C"
   ],
   "outputs": [
    {
     "output_type": "execute_result",
     "data": {
      "text/plain": [
       "array([[[[108.,   0.,   0.],\n",
       "         [  0.,  59.,   0.],\n",
       "         [  0.,   0.,  59.]],\n",
       "\n",
       "        [[  0.,  33.,   0.],\n",
       "         [ 33.,   0.,   0.],\n",
       "         [  0.,   0.,   0.]],\n",
       "\n",
       "        [[  0.,   0.,  33.],\n",
       "         [  0.,   0.,   0.],\n",
       "         [ 33.,   0.,   0.]]],\n",
       "\n",
       "\n",
       "       [[[  0.,  33.,   0.],\n",
       "         [ 33.,   0.,   0.],\n",
       "         [  0.,   0.,   0.]],\n",
       "\n",
       "        [[ 59.,   0.,   0.],\n",
       "         [  0., 108.,   0.],\n",
       "         [  0.,   0.,  59.]],\n",
       "\n",
       "        [[  0.,   0.,   0.],\n",
       "         [  0.,   0.,  33.],\n",
       "         [  0.,  33.,   0.]]],\n",
       "\n",
       "\n",
       "       [[[  0.,   0.,  33.],\n",
       "         [  0.,   0.,   0.],\n",
       "         [ 33.,   0.,   0.]],\n",
       "\n",
       "        [[  0.,   0.,   0.],\n",
       "         [  0.,   0.,  33.],\n",
       "         [  0.,  33.,   0.]],\n",
       "\n",
       "        [[ 59.,   0.,   0.],\n",
       "         [  0.,  59.,   0.],\n",
       "         [  0.,   0., 108.]]]])"
      ]
     },
     "metadata": {},
     "execution_count": 7
    }
   ],
   "metadata": {}
  },
  {
   "cell_type": "markdown",
   "source": [
    "Load corresponding $\\mathbb{D}_{\\langle 2r \\rangle \\alpha}$."
   ],
   "metadata": {}
  },
  {
   "cell_type": "code",
   "execution_count": 8,
   "source": [
    "r = C.ndim\r\n",
    "Ds = dt.Dv_load(r, as_tensors=True)\r\n",
    "Ds.shape"
   ],
   "outputs": [
    {
     "output_type": "execute_result",
     "data": {
      "text/plain": [
       "(5, 3, 3, 3, 3, 3, 3, 3, 3)"
      ]
     },
     "metadata": {},
     "execution_count": 8
    }
   ],
   "metadata": {}
  },
  {
   "cell_type": "markdown",
   "source": [
    "Compute $\\|\\mathbb{D}_{\\langle 2r \\rangle \\alpha}[\\tilde{\\mathbb{C}}_{\\langle r \\rangle}]\\|$, see equation (82) in published manuscript."
   ],
   "metadata": {}
  },
  {
   "cell_type": "code",
   "execution_count": 9,
   "source": [
    "for i in range(r + 1):\r\n",
    "    print('\\t%2.4f' % tn.nf(tn.lm(Ds[i], C)))"
   ],
   "outputs": [
    {
     "output_type": "stream",
     "name": "stdout",
     "text": [
      "\t261.9145\n",
      "\t0.0000\n",
      "\t0.0000\n",
      "\t0.0000\n",
      "\t18.6226\n"
     ]
    }
   ],
   "metadata": {}
  },
  {
   "cell_type": "markdown",
   "source": [
    "## 2. Example for C6"
   ],
   "metadata": {}
  },
  {
   "cell_type": "markdown",
   "source": [
    "The following example corresponds to the example documented in section 3.2, see equation (82)."
   ],
   "metadata": {}
  },
  {
   "cell_type": "markdown",
   "source": [
    "Generate symbolic fourth-order tensor $\\tilde{\\mathbb{C}}_{\\langle r \\rangle}$ for $r=6$."
   ],
   "metadata": {}
  },
  {
   "cell_type": "code",
   "execution_count": 10,
   "source": [
    "C = ts.gent('c', 6)\r\n",
    "print(len(C.free_symbols))"
   ],
   "outputs": [
    {
     "output_type": "stream",
     "name": "stdout",
     "text": [
      "729\n"
     ]
    }
   ],
   "metadata": {}
  },
  {
   "cell_type": "markdown",
   "source": [
    "Solve for corresponding index symmetries (can take up to 15 min, get some coffee :D)."
   ],
   "metadata": {}
  },
  {
   "cell_type": "code",
   "execution_count": 11,
   "source": [
    "t1 = now()\r\n",
    "index_sym = [\r\n",
    "    (1, 0, 2, 3, 4, 5),\r\n",
    "    (2, 3, 0, 1, 4, 5),\r\n",
    "    (0, 1, 4, 5, 2, 3)\r\n",
    "]\r\n",
    "for isym in index_sym:\r\n",
    "    C = ts.symmetrizeex(C, isym)\r\n",
    "t2 = now()\r\n",
    "print(t2-t1)\r\n",
    "print(len(C.free_symbols))"
   ],
   "outputs": [
    {
     "output_type": "stream",
     "name": "stdout",
     "text": [
      "0:05:23.483337\n",
      "56\n"
     ]
    }
   ],
   "metadata": {}
  },
  {
   "cell_type": "markdown",
   "source": [
    "Solve group conditions for cubic symmetry (can take up to 4 min)."
   ],
   "metadata": {}
  },
  {
   "cell_type": "code",
   "execution_count": 12,
   "source": [
    "t1 = now()\r\n",
    "C = ts.symmetrize_group(C, ts.sg_cub)\r\n",
    "t2 = now()\r\n",
    "print(t2-t1)\r\n",
    "print(len(C.free_symbols))"
   ],
   "outputs": [
    {
     "output_type": "stream",
     "name": "stdout",
     "text": [
      "0:01:23.097466\n",
      "6\n"
     ]
    }
   ],
   "metadata": {}
  },
  {
   "cell_type": "markdown",
   "source": [
    "Insert material data for aluminum."
   ],
   "metadata": {}
  },
  {
   "cell_type": "code",
   "execution_count": 13,
   "source": [
    "mat_data = {\r\n",
    "    C[0, 0, 0, 0, 0, 0]: -1100,\r\n",
    "    C[0, 0, 0, 0, 1, 1]: -371,\r\n",
    "    C[0, 0, 1, 1, 2, 2]: 104,\r\n",
    "    C[0, 0, 1, 2, 1, 2]: 39,\r\n",
    "    C[0, 0, 0, 2, 0, 2]: -421,\r\n",
    "    C[1, 2, 0, 2, 0, 1]: -22\r\n",
    "}\r\n",
    "C = C.subs(mat_data)\r\n",
    "C = np.array(sym.flatten(C)).astype(float).reshape(6*[3,])"
   ],
   "outputs": [],
   "metadata": {}
  },
  {
   "cell_type": "markdown",
   "source": [
    "Load corresponding $\\mathbb{D}_{\\langle 2r \\rangle \\alpha}$."
   ],
   "metadata": {}
  },
  {
   "cell_type": "code",
   "execution_count": 14,
   "source": [
    "t1 = now()\r\n",
    "r = C.ndim\r\n",
    "Ds = dt.Dv_load(r, as_tensors=True)\r\n",
    "t2 = now()\r\n",
    "print(t2-t1)"
   ],
   "outputs": [
    {
     "output_type": "stream",
     "name": "stdout",
     "text": [
      "0:00:08.795008\n"
     ]
    }
   ],
   "metadata": {}
  },
  {
   "cell_type": "markdown",
   "source": [
    "Compute norms, see equation (82) in published manuscript."
   ],
   "metadata": {}
  },
  {
   "cell_type": "code",
   "execution_count": 15,
   "source": [
    "for i in range(r + 1):\r\n",
    "    print('\\t%2.4f' % tn.nf(tn.lm(Ds[i], C)))"
   ],
   "outputs": [
    {
     "output_type": "stream",
     "name": "stdout",
     "text": [
      "\t4033.1707\n",
      "\t0.0000\n",
      "\t0.0000\n",
      "\t0.0000\n",
      "\t694.5125\n",
      "\t0.0000\n",
      "\t1504.3138\n"
     ]
    }
   ],
   "metadata": {}
  },
  {
   "cell_type": "code",
   "execution_count": null,
   "source": [],
   "outputs": [],
   "metadata": {}
  }
 ],
 "metadata": {
  "kernelspec": {
   "name": "python3",
   "display_name": "Python 3.9.7 64-bit ('codf': conda)"
  },
  "language_info": {
   "codemirror_mode": {
    "name": "ipython",
    "version": 3
   },
   "file_extension": ".py",
   "mimetype": "text/x-python",
   "name": "python",
   "nbconvert_exporter": "python",
   "pygments_lexer": "ipython3",
   "version": "3.9.7"
  },
  "interpreter": {
   "hash": "ffcaa4669b97f765b02df1f6966c48b02b9fcf5eb0eb49575f6e8d3925a363e5"
  }
 },
 "nbformat": 4,
 "nbformat_minor": 4
}