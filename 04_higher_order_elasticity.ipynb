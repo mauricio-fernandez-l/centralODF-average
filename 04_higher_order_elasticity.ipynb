{
 "cells": [
  {
   "cell_type": "markdown",
   "metadata": {},
   "source": [
    "# Higher-order elasticity\n",
    "\n",
    "* Author: Mauricio Fernández\n",
    "* Last update: 2020-06-14\n",
    "\n",
    "Table of contents\n",
    "\n",
    "* [1. Example for C4](#1.-Example-for-C4)\n",
    "* [2. Example for C6](#2.-Example-for-C6)"
   ]
  },
  {
   "cell_type": "markdown",
   "metadata": {},
   "source": [
    "## Description\n",
    "The present notebook corresponds to the higher-order elasticity example for aluminum, see section 3.2 in published manuscript. In higher-order elasticity, stiffness tensors of not only fourth-order, but also sixth-order might be considered. Orientation averages of such tensors in polycrystalline materials require adequate treatment. The present notebook demonstrates how the results for central ODFs can be applied to such cases."
   ]
  },
  {
   "cell_type": "code",
   "execution_count": 1,
   "metadata": {},
   "outputs": [],
   "source": [
    "import sympy as sym\n",
    "import numpy as np\n",
    "import datetime\n",
    "now = datetime.datetime.now\n",
    "\n",
    "import src.CentralODFAverage as cen\n",
    "import src.TensorCalculusSympy as ts\n",
    "import src.TensorCalculusNumpy as tn"
   ]
  },
  {
   "cell_type": "markdown",
   "metadata": {},
   "source": [
    "## 1. Example for C4"
   ]
  },
  {
   "cell_type": "markdown",
   "metadata": {},
   "source": [
    "The following example corresponds to the example documented in section 3.2, see equation (82)."
   ]
  },
  {
   "cell_type": "markdown",
   "metadata": {},
   "source": [
    "Generate symbolic fourth-order tensor $\\tilde{\\mathbb{C}}_{\\langle r \\rangle}$ for $r=4$."
   ]
  },
  {
   "cell_type": "code",
   "execution_count": 2,
   "metadata": {},
   "outputs": [
    {
     "data": {
      "text/plain": [
       "81"
      ]
     },
     "execution_count": 2,
     "metadata": {},
     "output_type": "execute_result"
    }
   ],
   "source": [
    "C = ts.gent('c',4)\n",
    "len(C.free_symbols)"
   ]
  },
  {
   "cell_type": "markdown",
   "metadata": {},
   "source": [
    "Solve minor and major index symmetry conditions and rewrite $\\tilde{\\mathbb{C}}_{\\langle r \\rangle}$ accordingly."
   ]
  },
  {
   "cell_type": "code",
   "execution_count": 3,
   "metadata": {},
   "outputs": [
    {
     "name": "stdout",
     "output_type": "stream",
     "text": [
      "True\n",
      "True\n"
     ]
    }
   ],
   "source": [
    "index_sym = [(1,0,2,3),(2,3,0,1)]\n",
    "for isym in index_sym:\n",
    "    C = ts.symmetrizeex(C,isym)\n",
    "    print(C == sym.permutedims(C, isym))"
   ]
  },
  {
   "cell_type": "markdown",
   "metadata": {},
   "source": [
    "Current number of free components in $\\tilde{\\mathbb{C}}_{\\langle r \\rangle}$ (classical results for triclinic linear hyperelasticity)."
   ]
  },
  {
   "cell_type": "code",
   "execution_count": 4,
   "metadata": {},
   "outputs": [
    {
     "data": {
      "text/plain": [
       "21"
      ]
     },
     "execution_count": 4,
     "metadata": {},
     "output_type": "execute_result"
    }
   ],
   "source": [
    "len(C.free_symbols)"
   ]
  },
  {
   "cell_type": "markdown",
   "metadata": {},
   "source": [
    "Solve group conditions for cubic group (tetrahedral group $O_h$ with 24 rotations)."
   ]
  },
  {
   "cell_type": "code",
   "execution_count": 5,
   "metadata": {},
   "outputs": [
    {
     "name": "stdout",
     "output_type": "stream",
     "text": [
      "{c2222, c2121, c2211}\n"
     ]
    },
    {
     "data": {
      "text/latex": [
       "$\\displaystyle \\left[\\begin{matrix}\\left[\\begin{matrix}c_{2222} & 0 & 0\\\\0 & c_{2211} & 0\\\\0 & 0 & c_{2211}\\end{matrix}\\right] & \\left[\\begin{matrix}0 & c_{2121} & 0\\\\c_{2121} & 0 & 0\\\\0 & 0 & 0\\end{matrix}\\right] & \\left[\\begin{matrix}0 & 0 & c_{2121}\\\\0 & 0 & 0\\\\c_{2121} & 0 & 0\\end{matrix}\\right]\\\\\\left[\\begin{matrix}0 & c_{2121} & 0\\\\c_{2121} & 0 & 0\\\\0 & 0 & 0\\end{matrix}\\right] & \\left[\\begin{matrix}c_{2211} & 0 & 0\\\\0 & c_{2222} & 0\\\\0 & 0 & c_{2211}\\end{matrix}\\right] & \\left[\\begin{matrix}0 & 0 & 0\\\\0 & 0 & c_{2121}\\\\0 & c_{2121} & 0\\end{matrix}\\right]\\\\\\left[\\begin{matrix}0 & 0 & c_{2121}\\\\0 & 0 & 0\\\\c_{2121} & 0 & 0\\end{matrix}\\right] & \\left[\\begin{matrix}0 & 0 & 0\\\\0 & 0 & c_{2121}\\\\0 & c_{2121} & 0\\end{matrix}\\right] & \\left[\\begin{matrix}c_{2211} & 0 & 0\\\\0 & c_{2211} & 0\\\\0 & 0 & c_{2222}\\end{matrix}\\right]\\end{matrix}\\right]$"
      ],
      "text/plain": [
       "[[[[c2222, 0, 0], [0, c2211, 0], [0, 0, c2211]], [[0, c2121, 0], [c2121, 0, 0], [0, 0, 0]], [[0, 0, c2121], [0, 0, 0], [c2121, 0, 0]]], [[[0, c2121, 0], [c2121, 0, 0], [0, 0, 0]], [[c2211, 0, 0], [0, c2222, 0], [0, 0, c2211]], [[0, 0, 0], [0, 0, c2121], [0, c2121, 0]]], [[[0, 0, c2121], [0, 0, 0], [c2121, 0, 0]], [[0, 0, 0], [0, 0, c2121], [0, c2121, 0]], [[c2211, 0, 0], [0, c2211, 0], [0, 0, c2222]]]]"
      ]
     },
     "execution_count": 5,
     "metadata": {},
     "output_type": "execute_result"
    }
   ],
   "source": [
    "C = ts.symmetrize_group(C, ts.sg_cub)\n",
    "print(C.free_symbols)\n",
    "C"
   ]
  },
  {
   "cell_type": "markdown",
   "metadata": {},
   "source": [
    "Insert material data of aluminum."
   ]
  },
  {
   "cell_type": "code",
   "execution_count": 6,
   "metadata": {},
   "outputs": [
    {
     "data": {
      "text/latex": [
       "$\\displaystyle \\left[\\begin{matrix}\\left[\\begin{matrix}108 & 0 & 0\\\\0 & 59 & 0\\\\0 & 0 & 59\\end{matrix}\\right] & \\left[\\begin{matrix}0 & 33 & 0\\\\33 & 0 & 0\\\\0 & 0 & 0\\end{matrix}\\right] & \\left[\\begin{matrix}0 & 0 & 33\\\\0 & 0 & 0\\\\33 & 0 & 0\\end{matrix}\\right]\\\\\\left[\\begin{matrix}0 & 33 & 0\\\\33 & 0 & 0\\\\0 & 0 & 0\\end{matrix}\\right] & \\left[\\begin{matrix}59 & 0 & 0\\\\0 & 108 & 0\\\\0 & 0 & 59\\end{matrix}\\right] & \\left[\\begin{matrix}0 & 0 & 0\\\\0 & 0 & 33\\\\0 & 33 & 0\\end{matrix}\\right]\\\\\\left[\\begin{matrix}0 & 0 & 33\\\\0 & 0 & 0\\\\33 & 0 & 0\\end{matrix}\\right] & \\left[\\begin{matrix}0 & 0 & 0\\\\0 & 0 & 33\\\\0 & 33 & 0\\end{matrix}\\right] & \\left[\\begin{matrix}59 & 0 & 0\\\\0 & 59 & 0\\\\0 & 0 & 108\\end{matrix}\\right]\\end{matrix}\\right]$"
      ],
      "text/plain": [
       "[[[[108, 0, 0], [0, 59, 0], [0, 0, 59]], [[0, 33, 0], [33, 0, 0], [0, 0, 0]], [[0, 0, 33], [0, 0, 0], [33, 0, 0]]], [[[0, 33, 0], [33, 0, 0], [0, 0, 0]], [[59, 0, 0], [0, 108, 0], [0, 0, 59]], [[0, 0, 0], [0, 0, 33], [0, 33, 0]]], [[[0, 0, 33], [0, 0, 0], [33, 0, 0]], [[0, 0, 0], [0, 0, 33], [0, 33, 0]], [[59, 0, 0], [0, 59, 0], [0, 0, 108]]]]"
      ]
     },
     "execution_count": 6,
     "metadata": {},
     "output_type": "execute_result"
    }
   ],
   "source": [
    "mat_data = {\n",
    "    C[0, 0, 0, 0]: 108, C[1, 2, 1, 2]: 33, C[0, 0, 1, 1]: 59\n",
    "}\n",
    "C = C.subs(mat_data)\n",
    "C"
   ]
  },
  {
   "cell_type": "markdown",
   "metadata": {},
   "source": [
    "Transform to np array."
   ]
  },
  {
   "cell_type": "code",
   "execution_count": 7,
   "metadata": {},
   "outputs": [
    {
     "data": {
      "text/plain": [
       "array([[[[108.,   0.,   0.],\n",
       "         [  0.,  59.,   0.],\n",
       "         [  0.,   0.,  59.]],\n",
       "\n",
       "        [[  0.,  33.,   0.],\n",
       "         [ 33.,   0.,   0.],\n",
       "         [  0.,   0.,   0.]],\n",
       "\n",
       "        [[  0.,   0.,  33.],\n",
       "         [  0.,   0.,   0.],\n",
       "         [ 33.,   0.,   0.]]],\n",
       "\n",
       "\n",
       "       [[[  0.,  33.,   0.],\n",
       "         [ 33.,   0.,   0.],\n",
       "         [  0.,   0.,   0.]],\n",
       "\n",
       "        [[ 59.,   0.,   0.],\n",
       "         [  0., 108.,   0.],\n",
       "         [  0.,   0.,  59.]],\n",
       "\n",
       "        [[  0.,   0.,   0.],\n",
       "         [  0.,   0.,  33.],\n",
       "         [  0.,  33.,   0.]]],\n",
       "\n",
       "\n",
       "       [[[  0.,   0.,  33.],\n",
       "         [  0.,   0.,   0.],\n",
       "         [ 33.,   0.,   0.]],\n",
       "\n",
       "        [[  0.,   0.,   0.],\n",
       "         [  0.,   0.,  33.],\n",
       "         [  0.,  33.,   0.]],\n",
       "\n",
       "        [[ 59.,   0.,   0.],\n",
       "         [  0.,  59.,   0.],\n",
       "         [  0.,   0., 108.]]]])"
      ]
     },
     "execution_count": 7,
     "metadata": {},
     "output_type": "execute_result"
    }
   ],
   "source": [
    "C = np.array(sym.flatten(C)).astype(np.float).reshape(4*[3,])\n",
    "C"
   ]
  },
  {
   "cell_type": "markdown",
   "metadata": {},
   "source": [
    "Load corresponding $\\mathbb{D}_{\\langle 2r \\rangle \\alpha}$."
   ]
  },
  {
   "cell_type": "code",
   "execution_count": 8,
   "metadata": {},
   "outputs": [
    {
     "data": {
      "text/plain": [
       "(5, 3, 3, 3, 3, 3, 3, 3, 3)"
      ]
     },
     "execution_count": 8,
     "metadata": {},
     "output_type": "execute_result"
    }
   ],
   "source": [
    "r = C.ndim\n",
    "Ds = cen.Dv_load(r, as_tensors=True)\n",
    "Ds.shape"
   ]
  },
  {
   "cell_type": "markdown",
   "metadata": {},
   "source": [
    "Compute $\\|\\mathbb{D}_{\\langle 2r \\rangle \\alpha}[\\tilde{\\mathbb{C}}_{\\langle r \\rangle}]\\|$, see equation (82) in published manuscript."
   ]
  },
  {
   "cell_type": "code",
   "execution_count": 9,
   "metadata": {},
   "outputs": [
    {
     "name": "stdout",
     "output_type": "stream",
     "text": [
      "\t261.9145\n",
      "\t0.0000\n",
      "\t0.0000\n",
      "\t0.0000\n",
      "\t18.6226\n"
     ]
    }
   ],
   "source": [
    "for i in range(r + 1):\n",
    "    print('\\t%2.4f' % tn.nf(tn.lm(Ds[i], C)))"
   ]
  },
  {
   "cell_type": "markdown",
   "metadata": {},
   "source": [
    "## 2. Example for C6"
   ]
  },
  {
   "cell_type": "markdown",
   "metadata": {},
   "source": [
    "The following example corresponds to the example documented in section 3.2, see equation (82)."
   ]
  },
  {
   "cell_type": "markdown",
   "metadata": {},
   "source": [
    "Generate symbolic fourth-order tensor $\\tilde{\\mathbb{C}}_{\\langle r \\rangle}$ for $r=6$."
   ]
  },
  {
   "cell_type": "code",
   "execution_count": 10,
   "metadata": {},
   "outputs": [
    {
     "name": "stdout",
     "output_type": "stream",
     "text": [
      "729\n"
     ]
    }
   ],
   "source": [
    "C = ts.gent('c', 6)\n",
    "print(len(C.free_symbols))"
   ]
  },
  {
   "cell_type": "markdown",
   "metadata": {},
   "source": [
    "Solve for corresponding index symmetries (up to 15 min, get some coffee :D)."
   ]
  },
  {
   "cell_type": "code",
   "execution_count": 11,
   "metadata": {},
   "outputs": [
    {
     "name": "stdout",
     "output_type": "stream",
     "text": [
      "0:12:35.501190\n",
      "56\n"
     ]
    }
   ],
   "source": [
    "t1 = now()\n",
    "index_sym = [\n",
    "    (1, 0, 2, 3, 4, 5),\n",
    "    (2, 3, 0, 1, 4, 5),\n",
    "    (0, 1, 4, 5, 2, 3)\n",
    "]\n",
    "for isym in index_sym:\n",
    "    C = ts.symmetrizeex(C, isym)\n",
    "t2 = now()\n",
    "print(t2-t1)\n",
    "print(len(C.free_symbols))"
   ]
  },
  {
   "cell_type": "markdown",
   "metadata": {},
   "source": [
    "Solve group conditions for cubic symmetry."
   ]
  },
  {
   "cell_type": "code",
   "execution_count": 12,
   "metadata": {},
   "outputs": [
    {
     "name": "stdout",
     "output_type": "stream",
     "text": [
      "0:03:08.415924\n",
      "6\n"
     ]
    }
   ],
   "source": [
    "t1 = now()\n",
    "C = ts.symmetrize_group(C, ts.sg_cub)\n",
    "t2 = now()\n",
    "print(t2-t1)\n",
    "print(len(C.free_symbols))"
   ]
  },
  {
   "cell_type": "markdown",
   "metadata": {},
   "source": [
    "Insert material data for aluminum."
   ]
  },
  {
   "cell_type": "code",
   "execution_count": 13,
   "metadata": {},
   "outputs": [],
   "source": [
    "mat_data = {\n",
    "    C[0, 0, 0, 0, 0, 0]: -1100,\n",
    "    C[0, 0, 0, 0, 1, 1]: -371,\n",
    "    C[0, 0, 1, 1, 2, 2]: 104,\n",
    "    C[0, 0, 1, 2, 1, 2]: 39,\n",
    "    C[0, 0, 0, 2, 0, 2]: -421,\n",
    "    C[1, 2, 0, 2, 0, 1]: -22\n",
    "}\n",
    "C = C.subs(mat_data)\n",
    "C = np.array(sym.flatten(C)).astype(np.float).reshape(6*[3,])"
   ]
  },
  {
   "cell_type": "markdown",
   "metadata": {},
   "source": [
    "Load corresponding $\\mathbb{D}_{\\langle 2r \\rangle \\alpha}$."
   ]
  },
  {
   "cell_type": "code",
   "execution_count": 14,
   "metadata": {},
   "outputs": [
    {
     "name": "stdout",
     "output_type": "stream",
     "text": [
      "0:00:14.504840\n"
     ]
    }
   ],
   "source": [
    "t1 = now()\n",
    "r = C.ndim\n",
    "Ds = cen.Dv_load(r, as_tensors=True)\n",
    "t2 = now()\n",
    "print(t2-t1)"
   ]
  },
  {
   "cell_type": "markdown",
   "metadata": {},
   "source": [
    "Compute norms, see equation (82) in published manuscript."
   ]
  },
  {
   "cell_type": "code",
   "execution_count": 15,
   "metadata": {},
   "outputs": [
    {
     "name": "stdout",
     "output_type": "stream",
     "text": [
      "\t4033.1707\n",
      "\t0.0000\n",
      "\t0.0000\n",
      "\t0.0000\n",
      "\t694.5125\n",
      "\t0.0000\n",
      "\t1504.3138\n"
     ]
    }
   ],
   "source": [
    "for i in range(r + 1):\n",
    "    print('\\t%2.4f' % tn.nf(tn.lm(Ds[i], C)))"
   ]
  },
  {
   "cell_type": "code",
   "execution_count": null,
   "metadata": {},
   "outputs": [],
   "source": []
  }
 ],
 "metadata": {
  "kernelspec": {
   "display_name": "Python 3",
   "language": "python",
   "name": "python3"
  },
  "language_info": {
   "codemirror_mode": {
    "name": "ipython",
    "version": 3
   },
   "file_extension": ".py",
   "mimetype": "text/x-python",
   "name": "python",
   "nbconvert_exporter": "python",
   "pygments_lexer": "ipython3",
   "version": "3.7.7"
  }
 },
 "nbformat": 4,
 "nbformat_minor": 4
}
