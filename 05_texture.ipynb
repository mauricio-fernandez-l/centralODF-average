{
 "cells": [
  {
   "cell_type": "markdown",
   "metadata": {},
   "source": [
    "# Quantitive texture analysis\n",
    "\n",
    "* Author: Mauricio Fernández\n",
    "* Last update: 2020-06-18\n",
    "\n",
    "Table of contents\n",
    "\n",
    "* [1. Minimization of epsilon^+](#1.-Minimization-of-epsilon^+)"
   ]
  },
  {
   "cell_type": "markdown",
   "metadata": {},
   "source": [
    "## Description\n",
    "The present notebook corresponds to the quantitative texture analysis example in the manuscript documented section 3.3 (minimization of $\\epsilon^+$). The numerical optimizations take some time. The corresponding restuls can be found in the manuscript, section 3.3, Table 2.."
   ]
  },
  {
   "cell_type": "code",
   "execution_count": 1,
   "metadata": {},
   "outputs": [],
   "source": [
    "import numpy as np\n",
    "\n",
    "import src.CentralODFAverage as cen\n",
    "import src.TensorCalculusNumpy as tn\n",
    "import src.TensorCalculusSympy as ts"
   ]
  },
  {
   "cell_type": "markdown",
   "metadata": {},
   "source": [
    "## 1. Minimization of epsilon^+"
   ]
  },
  {
   "cell_type": "markdown",
   "metadata": {},
   "source": [
    "Orientation data"
   ]
  },
  {
   "cell_type": "code",
   "execution_count": 2,
   "metadata": {},
   "outputs": [],
   "source": [
    "nfori = 21\n",
    "fori = 1 / nfori * np.ones(nfori)\n",
    "omori = np.pi * np.linspace(0, 1, nfori)\n",
    "Qori = [tn.rotm([1, 0, 0], omi) for omi in omori]\n",
    "odata = [fori, Qori]"
   ]
  },
  {
   "cell_type": "markdown",
   "metadata": {},
   "source": [
    "Tensor order $r$"
   ]
  },
  {
   "cell_type": "code",
   "execution_count": 3,
   "metadata": {},
   "outputs": [],
   "source": [
    "r = 3"
   ]
  },
  {
   "cell_type": "markdown",
   "metadata": {},
   "source": [
    "Check that needed ONB of harmonic tensors are available"
   ]
  },
  {
   "cell_type": "code",
   "execution_count": 4,
   "metadata": {
    "scrolled": false
   },
   "outputs": [
    {
     "name": "stdout",
     "output_type": "stream",
     "text": [
      "Harmonic ONBs already generated up to tensor order 3\n"
     ]
    }
   ],
   "source": [
    "tn.checkhonb(r)"
   ]
  },
  {
   "cell_type": "markdown",
   "metadata": {},
   "source": [
    "Optiimize $\\epsilon^+$ with $m$ texture components"
   ]
  },
  {
   "cell_type": "code",
   "execution_count": 5,
   "metadata": {
    "scrolled": false
   },
   "outputs": [
    {
     "name": "stdout",
     "output_type": "stream",
     "text": [
      "\n",
      "----------------------------------------\n",
      "\n",
      "Number of components: 2\n",
      "Min and max norms of texture coefficients of original ODF: \n",
      "\t0.0476\n",
      "\t1.0000\n",
      "Initial value of function (\\epsilon^+): \n",
      "\t42.9368\n",
      "Optimization terminated successfully    (Exit mode 0)\n",
      "            Current function value: 31.42855753185676\n",
      "            Iterations: 62\n",
      "            Function evaluations: 1228\n",
      "            Gradient evaluations: 62\n",
      "\n",
      "Component concentrations\n",
      "\t0.7572\n",
      "\t0.2428\n",
      "\n",
      "Rotation axes (n_1,n_2,n_3) (in rows) of central orientations of corresponding component\n",
      "[[ 1.00000000e+00 -1.89697069e-06  2.56816208e-06]\n",
      " [ 2.20695806e-05 -7.06924416e-01  7.07289387e-01]]\n",
      "\n",
      "Rotation angles of central orientations of corresponding component\n",
      "[1.57079525 3.14159265]\n",
      "\n",
      "Texture eigenvalues (lambda_1,lambda_2,...) (in rows) of corresponding component\n",
      "[[ 7.99108331e-01  5.17859994e-01  3.11228563e-01]\n",
      " [-8.72121878e-05  2.00000000e-01 -1.42857143e-01]]\n",
      "Check value of $\\epsilon^+$\n",
      "\t31.4286\n",
      "\n",
      "----------------------------------------\n",
      "\n",
      "Number of components: 3\n",
      "Min and max norms of texture coefficients of original ODF: \n",
      "\t0.0476\n",
      "\t1.0000\n",
      "Initial value of function (\\epsilon^+): \n",
      "\t43.6231\n",
      "Optimization terminated successfully    (Exit mode 0)\n",
      "            Current function value: 4.174630422579491\n",
      "            Iterations: 62\n",
      "            Function evaluations: 1816\n",
      "            Gradient evaluations: 62\n",
      "\n",
      "Component concentrations\n",
      "\t0.4106\n",
      "\t0.3875\n",
      "\t0.2018\n",
      "\n",
      "Rotation axes (n_1,n_2,n_3) (in rows) of central orientations of corresponding component\n",
      "[[ 1.00000000e+00  4.84112117e-08 -1.72012412e-07]\n",
      " [ 1.00000000e+00 -4.04629289e-08  5.89099024e-07]\n",
      " [-8.82851482e-01 -6.86532048e-04  4.69651786e-01]]\n",
      "\n",
      "Rotation angles of central orientations of corresponding component\n",
      "[2.49867391e+00 1.21013748e+00 3.17233869e-13]\n",
      "\n",
      "Texture eigenvalues (lambda_1,lambda_2,...) (in rows) of corresponding component\n",
      "[[0.99662549 0.99190117 0.98843024]\n",
      " [0.99197963 0.99518778 0.9931254 ]\n",
      " [0.95069923 0.94083908 0.9577422 ]]\n",
      "Check value of $\\epsilon^+$\n",
      "\t4.1746\n",
      "\n",
      "----------------------------------------\n",
      "\n",
      "Number of components: 4\n",
      "Min and max norms of texture coefficients of original ODF: \n",
      "\t0.0476\n",
      "\t1.0000\n",
      "Initial value of function (\\epsilon^+): \n",
      "\t43.2841\n",
      "Iteration limit reached    (Exit mode 9)\n",
      "            Current function value: 0.5564954130240624\n",
      "            Iterations: 100\n",
      "            Function evaluations: 3918\n",
      "            Gradient evaluations: 99\n",
      "\n",
      "Component concentrations\n",
      "\t0.3069\n",
      "\t0.3863\n",
      "\t0.3068\n",
      "\t0.0000\n",
      "\n",
      "Rotation axes (n_1,n_2,n_3) (in rows) of central orientations of corresponding component\n",
      "[[ 1.00000000e+00  7.23668813e-08  8.81893080e-08]\n",
      " [ 1.00000000e+00 -2.69223891e-08  9.99893084e-08]\n",
      " [ 1.00000000e+00 -1.56720395e-07 -3.60955435e-07]\n",
      " [ 6.24431580e-01 -2.48300968e-01 -7.40563543e-01]]\n",
      "\n",
      "Rotation angles of central orientations of corresponding component\n",
      "[2.74056647 1.57073788 0.40093519 0.2799427 ]\n",
      "\n",
      "Texture eigenvalues (lambda_1,lambda_2,...) (in rows) of corresponding component\n",
      "[[ 0.9968379   0.99241211  0.98916021]\n",
      " [ 0.94819009  0.96707027  0.95295752]\n",
      " [ 0.99683803  0.99241132  0.98915905]\n",
      " [-0.18827089  0.1557349  -0.07344649]]\n",
      "Check value of $\\epsilon^+$\n",
      "\t0.5565\n"
     ]
    }
   ],
   "source": [
    "for m in [2, 3, 4]:\n",
    "    print('\\n----------------------------------------')\n",
    "    print('\\nNumber of components: %i' % m)\n",
    "    res = cen.mineplus(odata, r=r, ncomponents=m, npointsLa=4)\n",
    "    print('\\nComponent concentrations')\n",
    "    for ress in res[0]:\n",
    "        print('\\t%.4f' % ress)\n",
    "    print('\\nRotation axes (n_1,n_2,n_3) (in rows) of central orientations of corresponding component')\n",
    "    print(res[1])\n",
    "    print('\\nRotation angles of central orientations of corresponding component')\n",
    "    print(res[2])\n",
    "    print('\\nTexture eigenvalues (lambda_1,lambda_2,...) (in rows) of corresponding component')\n",
    "    print(res[3])\n",
    "    print('Check value of $\\\\epsilon^+$')\n",
    "    Vori = cen.tc(odata, r)\n",
    "    Vcen = cen.tccen(res)\n",
    "    print('\\t%.4f' % cen.epsilonplus(Vori, Vcen))"
   ]
  },
  {
   "cell_type": "markdown",
   "metadata": {},
   "source": [
    "Depending on the current version of Sympy, Numpy and Scipy the user might get different results out of the numerical optimization. Therefore, the user may directly input concentrations, variables of central orientations and texture eigenvalues of interest and evaluate the bound $\\epsilon^+$. This can be done in the present file based on the following lines of code."
   ]
  },
  {
   "cell_type": "markdown",
   "metadata": {},
   "source": [
    "$m$ = 2"
   ]
  },
  {
   "cell_type": "code",
   "execution_count": 6,
   "metadata": {},
   "outputs": [
    {
     "name": "stdout",
     "output_type": "stream",
     "text": [
      "31.4283\n"
     ]
    }
   ],
   "source": [
    "component_concentrations = np.array([\n",
    "    0.7572,\n",
    "    0.2428\n",
    "])\n",
    "rotation_axes = np.array([\n",
    "    [1.0000, 0.0000, 0.0000], \n",
    "    [0.0000, -0.7071, 0.7071]\n",
    "])\n",
    "rotation_angles = np.array([\n",
    "    1.5708,\n",
    "    3.1416\n",
    "])\n",
    "texture_eigenvalues = np.array([\n",
    "    [0.7991, 0.5179, 0.3112], \n",
    "    [0.0000, 0.2000, -0.1429]\n",
    "])\n",
    "\n",
    "####################################\n",
    "\n",
    "variables = [\n",
    "    component_concentrations,\n",
    "    rotation_axes,\n",
    "    rotation_angles,\n",
    "    texture_eigenvalues]\n",
    "texture_coefficients_original = cen.tc(odata, 3)\n",
    "texture_coefficients_central = cen.tccen(variables)\n",
    "eps = cen.epsilonplus(\n",
    "    texture_coefficients_original,\n",
    "    texture_coefficients_central)\n",
    "print('%.4f' % eps)"
   ]
  },
  {
   "cell_type": "markdown",
   "metadata": {},
   "source": [
    "$m = 3$"
   ]
  },
  {
   "cell_type": "code",
   "execution_count": 7,
   "metadata": {},
   "outputs": [
    {
     "name": "stdout",
     "output_type": "stream",
     "text": [
      "4.1760\n"
     ]
    }
   ],
   "source": [
    "component_concentrations = np.array([\n",
    "    0.4106,\n",
    "    0.3875,\n",
    "    0.2018\n",
    "])\n",
    "rotation_axes = np.array([\n",
    "    [1, 0, 0],\n",
    "    [1,0,0],\n",
    "    [-0.8827,-0.0007,0.4700]\n",
    "])\n",
    "rotation_angles = np.array([\n",
    "    2.4987, \n",
    "    1.2102,\n",
    "    0\n",
    "])\n",
    "texture_eigenvalues = np.array([\n",
    "    [0.9966, 0.9919, 0.9885], \n",
    "    [0.9920, 0.9952, 0.9931],\n",
    "    [0.9508, 0.9410, 0.9578]\n",
    "])\n",
    "\n",
    "####################################\n",
    "\n",
    "variables = [\n",
    "    component_concentrations,\n",
    "    rotation_axes,\n",
    "    rotation_angles,\n",
    "    texture_eigenvalues]\n",
    "texture_coefficients_original = cen.tc(odata, 3)\n",
    "texture_coefficients_central = cen.tccen(variables)\n",
    "eps = cen.epsilonplus(\n",
    "    texture_coefficients_original,\n",
    "    texture_coefficients_central)\n",
    "print('%.4f' % eps)"
   ]
  },
  {
   "cell_type": "markdown",
   "metadata": {},
   "source": [
    "$m = 4$"
   ]
  },
  {
   "cell_type": "code",
   "execution_count": 8,
   "metadata": {},
   "outputs": [
    {
     "name": "stdout",
     "output_type": "stream",
     "text": [
      "0.5576\n"
     ]
    }
   ],
   "source": [
    "component_concentrations = np.array([\n",
    "    0.3070,\n",
    "    0.3861,\n",
    "    0.3069\n",
    "])\n",
    "rotation_axes = np.array([\n",
    "    [1,0,0],\n",
    "    [1,0,0],\n",
    "    [1,0,0]\n",
    "])\n",
    "rotation_angles = np.array([\n",
    "    2.7404, \n",
    "    1.5706,\n",
    "    0.4009\n",
    "])\n",
    "texture_eigenvalues = np.array([\n",
    "    [0.9967, 0.9921, 0.9887], \n",
    "    [0.9484, 0.9674, 0.9534],\n",
    "    [0.9967, 0.9921, 0.9887]\n",
    "])\n",
    "\n",
    "####################################\n",
    "\n",
    "variables = [\n",
    "    component_concentrations,\n",
    "    rotation_axes,\n",
    "    rotation_angles,\n",
    "    texture_eigenvalues]\n",
    "texture_coefficients_original = cen.tc(odata, 3)\n",
    "texture_coefficients_central = cen.tccen(variables)\n",
    "eps = cen.epsilonplus(\n",
    "    texture_coefficients_original,\n",
    "    texture_coefficients_central)\n",
    "print('%.4f' % eps)"
   ]
  },
  {
   "cell_type": "code",
   "execution_count": null,
   "metadata": {},
   "outputs": [],
   "source": []
  }
 ],
 "metadata": {
  "kernelspec": {
   "display_name": "Python 3",
   "language": "python",
   "name": "python3"
  },
  "language_info": {
   "codemirror_mode": {
    "name": "ipython",
    "version": 3
   },
   "file_extension": ".py",
   "mimetype": "text/x-python",
   "name": "python",
   "nbconvert_exporter": "python",
   "pygments_lexer": "ipython3",
   "version": "3.7.7"
  }
 },
 "nbformat": 4,
 "nbformat_minor": 4
}
