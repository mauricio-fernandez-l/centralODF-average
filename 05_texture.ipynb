{
 "cells": [
  {
   "cell_type": "markdown",
   "source": [
    "# Quantitive texture analysis\r\n",
    "\r\n",
    "* Author: Mauricio Fernández\r\n",
    "* Last update: 2021-10-05\r\n",
    "\r\n",
    "Table of contents\r\n",
    "\r\n",
    "* [1. Minimization of epsilon^+](#1.-Minimization-of-epsilon^+)"
   ],
   "metadata": {}
  },
  {
   "cell_type": "markdown",
   "source": [
    "## Description\n",
    "The present notebook corresponds to the quantitative texture analysis example in the manuscript documented section 3.3 (minimization of $\\epsilon^+$). The numerical optimizations take some time. The corresponding restuls can be found in the manuscript, section 3.3, Table 2.."
   ],
   "metadata": {}
  },
  {
   "cell_type": "code",
   "execution_count": 1,
   "source": [
    "import numpy as np\r\n",
    "\r\n",
    "import odf_cen_av.texture as tex\r\n",
    "import odf_cen_av.tensor_numpy as tn\r\n",
    "import odf_cen_av.tensor_sympy as ts"
   ],
   "outputs": [],
   "metadata": {}
  },
  {
   "cell_type": "markdown",
   "source": [
    "## 1. Minimization of epsilon^+"
   ],
   "metadata": {}
  },
  {
   "cell_type": "markdown",
   "source": [
    "Orientation data"
   ],
   "metadata": {}
  },
  {
   "cell_type": "code",
   "execution_count": 2,
   "source": [
    "nfori = 21\r\n",
    "fori = 1 / nfori * np.ones(nfori)\r\n",
    "omori = np.pi * np.linspace(0, 1, nfori)\r\n",
    "Qori = [tn.rotm([1, 0, 0], omi) for omi in omori]\r\n",
    "odata = [fori, Qori]"
   ],
   "outputs": [],
   "metadata": {}
  },
  {
   "cell_type": "markdown",
   "source": [
    "Tensor order $r$"
   ],
   "metadata": {}
  },
  {
   "cell_type": "code",
   "execution_count": 3,
   "source": [
    "r = 3"
   ],
   "outputs": [],
   "metadata": {}
  },
  {
   "cell_type": "markdown",
   "source": [
    "Check that needed ONB of harmonic tensors are available"
   ],
   "metadata": {}
  },
  {
   "cell_type": "code",
   "execution_count": 4,
   "source": [
    "tn.checkhonb(r)"
   ],
   "outputs": [
    {
     "output_type": "stream",
     "name": "stdout",
     "text": [
      "Harmonic ONBs already generated up to tensor order 3\n"
     ]
    }
   ],
   "metadata": {
    "scrolled": false
   }
  },
  {
   "cell_type": "markdown",
   "source": [
    "Optiimize $\\epsilon^+$ with $m$ texture components"
   ],
   "metadata": {}
  },
  {
   "cell_type": "code",
   "execution_count": 5,
   "source": [
    "for m in [2, 3, 4]:\r\n",
    "    print('\\n----------------------------------------')\r\n",
    "    print('\\nNumber of components: %i' % m)\r\n",
    "    res = tex.mineplus(odata, r=r, ncomponents=m, npointsLa=4)\r\n",
    "    print('\\nComponent concentrations')\r\n",
    "    for ress in res[0]:\r\n",
    "        print('\\t%.4f' % ress)\r\n",
    "    print('\\nRotation axes (n_1,n_2,n_3) (in rows) of central orientations of corresponding component')\r\n",
    "    print(res[1])\r\n",
    "    print('\\nRotation angles of central orientations of corresponding component')\r\n",
    "    print(res[2])\r\n",
    "    print('\\nTexture eigenvalues (lambda_1,lambda_2,...) (in rows) of corresponding component')\r\n",
    "    print(res[3])\r\n",
    "    print('Check value of $\\\\epsilon^+$')\r\n",
    "    Vori = tex.tc(odata, r)\r\n",
    "    Vcen = tex.tccen(res)\r\n",
    "    print('\\t%.4f' % tex.epsilonplus(Vori, Vcen))"
   ],
   "outputs": [
    {
     "output_type": "stream",
     "name": "stdout",
     "text": [
      "\n",
      "----------------------------------------\n",
      "\n",
      "Number of components: 2\n",
      "Min and max norms of texture coefficients of original ODF: \n",
      "\t0.0476\n",
      "\t1.0000\n",
      "Initial value of function (\\epsilon^+): \n",
      "\t42.9368\n",
      "Optimization terminated successfully    (Exit mode 0)\n",
      "            Current function value: 31.42852882684343\n",
      "            Iterations: 72\n",
      "            Function evaluations: 1434\n",
      "            Gradient evaluations: 72\n",
      "\n",
      "Component concentrations\n",
      "\t0.7572\n",
      "\t0.2428\n",
      "\n",
      "Rotation axes (n_1,n_2,n_3) (in rows) of central orientations of corresponding component\n",
      "[[ 1.00000000e+00 -9.40788152e-09 -1.33685362e-07]\n",
      " [-8.26846530e-05 -7.07117334e-01  7.07096232e-01]]\n",
      "\n",
      "Rotation angles of central orientations of corresponding component\n",
      "[1.57079639 3.14156685]\n",
      "\n",
      "Texture eigenvalues (lambda_1,lambda_2,...) (in rows) of corresponding component\n",
      "[[ 7.99046993e-01  5.17712784e-01  3.11018262e-01]\n",
      " [ 7.23538224e-07  2.00000000e-01 -1.42857143e-01]]\n",
      "Check value of $\\epsilon^+$\n",
      "\t31.4285\n",
      "\n",
      "----------------------------------------\n",
      "\n",
      "Number of components: 3\n",
      "Min and max norms of texture coefficients of original ODF: \n",
      "\t0.0476\n",
      "\t1.0000\n",
      "Initial value of function (\\epsilon^+): \n",
      "\t43.6231\n",
      "Optimization terminated successfully    (Exit mode 0)\n",
      "            Current function value: 4.174626156738457\n",
      "            Iterations: 70\n",
      "            Function evaluations: 2052\n",
      "            Gradient evaluations: 70\n",
      "\n",
      "Component concentrations\n",
      "\t0.4106\n",
      "\t0.3875\n",
      "\t0.2018\n",
      "\n",
      "Rotation axes (n_1,n_2,n_3) (in rows) of central orientations of corresponding component\n",
      "[[ 1.00000000e+00 -2.21283675e-08 -4.94221774e-08]\n",
      " [ 1.00000000e+00 -1.68770992e-08  1.21305085e-07]\n",
      " [-8.82787640e-01 -5.86704677e-04  4.69771900e-01]]\n",
      "\n",
      "Rotation angles of central orientations of corresponding component\n",
      "[2.49869002e+00 1.21016897e+00 1.28730833e-13]\n",
      "\n",
      "Texture eigenvalues (lambda_1,lambda_2,...) (in rows) of corresponding component\n",
      "[[0.99663456 0.99192295 0.98846136]\n",
      " [0.99200725 0.99520435 0.99314907]\n",
      " [0.95080464 0.94096556 0.95783254]]\n",
      "Check value of $\\epsilon^+$\n",
      "\t4.1746\n",
      "\n",
      "----------------------------------------\n",
      "\n",
      "Number of components: 4\n",
      "Min and max norms of texture coefficients of original ODF: \n",
      "\t0.0476\n",
      "\t1.0000\n",
      "Initial value of function (\\epsilon^+): \n",
      "\t43.2841\n",
      "Optimization terminated successfully    (Exit mode 0)\n",
      "            Current function value: 0.5565113892460967\n",
      "            Iterations: 84\n",
      "            Function evaluations: 3215\n",
      "            Gradient evaluations: 84\n",
      "\n",
      "Component concentrations\n",
      "\t0.3069\n",
      "\t0.3863\n",
      "\t0.3068\n",
      "\t-0.0000\n",
      "\n",
      "Rotation axes (n_1,n_2,n_3) (in rows) of central orientations of corresponding component\n",
      "[[ 1.00000000e+00 -6.75832369e-07 -2.48005191e-08]\n",
      " [ 1.00000000e+00 -6.06417202e-07 -1.51055121e-07]\n",
      " [ 1.00000000e+00  2.79730654e-06 -3.74722546e-07]\n",
      " [ 6.12374897e-01 -2.39342349e-01 -7.53467020e-01]]\n",
      "\n",
      "Rotation angles of central orientations of corresponding component\n",
      "[2.74047567 1.57066925 0.40091932 0.26573873]\n",
      "\n",
      "Texture eigenvalues (lambda_1,lambda_2,...) (in rows) of corresponding component\n",
      "[[ 0.99684953  0.99243887  0.98919838]\n",
      " [ 0.94804967  0.96695979  0.95279969]\n",
      " [ 0.99684772  0.99243452  0.98919217]\n",
      " [-0.16820635  0.16159765 -0.05910567]]\n",
      "Check value of $\\epsilon^+$\n",
      "\t0.5565\n"
     ]
    }
   ],
   "metadata": {
    "scrolled": false
   }
  },
  {
   "cell_type": "markdown",
   "source": [
    "Depending on the current version of Sympy, Numpy and Scipy the user might get different results out of the numerical optimization. Therefore, the user may directly input concentrations, variables of central orientations and texture eigenvalues of interest and evaluate the bound $\\epsilon^+$. This can be done in the present file based on the following lines of code."
   ],
   "metadata": {}
  },
  {
   "cell_type": "markdown",
   "source": [
    "$m$ = 2"
   ],
   "metadata": {}
  },
  {
   "cell_type": "code",
   "execution_count": 6,
   "source": [
    "component_concentrations = np.array([\r\n",
    "    0.7572,\r\n",
    "    0.2428\r\n",
    "])\r\n",
    "rotation_axes = np.array([\r\n",
    "    [1.0000, 0.0000, 0.0000], \r\n",
    "    [0.0000, -0.7071, 0.7071]\r\n",
    "])\r\n",
    "rotation_angles = np.array([\r\n",
    "    1.5708,\r\n",
    "    3.1416\r\n",
    "])\r\n",
    "texture_eigenvalues = np.array([\r\n",
    "    [0.7991, 0.5179, 0.3112], \r\n",
    "    [0.0000, 0.2000, -0.1429]\r\n",
    "])\r\n",
    "\r\n",
    "####################################\r\n",
    "\r\n",
    "variables = [\r\n",
    "    component_concentrations,\r\n",
    "    rotation_axes,\r\n",
    "    rotation_angles,\r\n",
    "    texture_eigenvalues\r\n",
    "]\r\n",
    "texture_coefficients_original = tex.tc(odata, 3)\r\n",
    "texture_coefficients_central = tex.tccen(variables)\r\n",
    "eps = tex.epsilonplus(\r\n",
    "    texture_coefficients_original,\r\n",
    "    texture_coefficients_central\r\n",
    ")\r\n",
    "print('%.4f' % eps)"
   ],
   "outputs": [
    {
     "output_type": "stream",
     "name": "stdout",
     "text": [
      "31.4283\n"
     ]
    }
   ],
   "metadata": {}
  },
  {
   "cell_type": "markdown",
   "source": [
    "$m = 3$"
   ],
   "metadata": {}
  },
  {
   "cell_type": "code",
   "execution_count": 7,
   "source": [
    "component_concentrations = np.array([\r\n",
    "    0.4106,\r\n",
    "    0.3875,\r\n",
    "    0.2018\r\n",
    "])\r\n",
    "rotation_axes = np.array([\r\n",
    "    [1, 0, 0],\r\n",
    "    [1,0,0],\r\n",
    "    [-0.8827,-0.0007,0.4700]\r\n",
    "])\r\n",
    "rotation_angles = np.array([\r\n",
    "    2.4987, \r\n",
    "    1.2102,\r\n",
    "    0\r\n",
    "])\r\n",
    "texture_eigenvalues = np.array([\r\n",
    "    [0.9966, 0.9919, 0.9885], \r\n",
    "    [0.9920, 0.9952, 0.9931],\r\n",
    "    [0.9508, 0.9410, 0.9578]\r\n",
    "])\r\n",
    "\r\n",
    "####################################\r\n",
    "\r\n",
    "variables = [\r\n",
    "    component_concentrations,\r\n",
    "    rotation_axes,\r\n",
    "    rotation_angles,\r\n",
    "    texture_eigenvalues\r\n",
    "]\r\n",
    "texture_coefficients_original = tex.tc(odata, 3)\r\n",
    "texture_coefficients_central = tex.tccen(variables)\r\n",
    "eps = tex.epsilonplus(\r\n",
    "    texture_coefficients_original,\r\n",
    "    texture_coefficients_central\r\n",
    ")\r\n",
    "print('%.4f' % eps)"
   ],
   "outputs": [
    {
     "output_type": "stream",
     "name": "stdout",
     "text": [
      "4.1760\n"
     ]
    }
   ],
   "metadata": {}
  },
  {
   "cell_type": "markdown",
   "source": [
    "$m = 4$"
   ],
   "metadata": {}
  },
  {
   "cell_type": "code",
   "execution_count": 8,
   "source": [
    "component_concentrations = np.array([\r\n",
    "    0.3070,\r\n",
    "    0.3861,\r\n",
    "    0.3069\r\n",
    "])\r\n",
    "rotation_axes = np.array([\r\n",
    "    [1,0,0],\r\n",
    "    [1,0,0],\r\n",
    "    [1,0,0]\r\n",
    "])\r\n",
    "rotation_angles = np.array([\r\n",
    "    2.7404, \r\n",
    "    1.5706,\r\n",
    "    0.4009\r\n",
    "])\r\n",
    "texture_eigenvalues = np.array([\r\n",
    "    [0.9967, 0.9921, 0.9887], \r\n",
    "    [0.9484, 0.9674, 0.9534],\r\n",
    "    [0.9967, 0.9921, 0.9887]\r\n",
    "])\r\n",
    "\r\n",
    "####################################\r\n",
    "\r\n",
    "variables = [\r\n",
    "    component_concentrations,\r\n",
    "    rotation_axes,\r\n",
    "    rotation_angles,\r\n",
    "    texture_eigenvalues\r\n",
    "]\r\n",
    "texture_coefficients_original = tex.tc(odata, 3)\r\n",
    "texture_coefficients_central = tex.tccen(variables)\r\n",
    "eps = tex.epsilonplus(\r\n",
    "    texture_coefficients_original,\r\n",
    "    texture_coefficients_central\r\n",
    ")\r\n",
    "print('%.4f' % eps)"
   ],
   "outputs": [
    {
     "output_type": "stream",
     "name": "stdout",
     "text": [
      "0.5576\n"
     ]
    }
   ],
   "metadata": {}
  },
  {
   "cell_type": "code",
   "execution_count": null,
   "source": [],
   "outputs": [],
   "metadata": {}
  }
 ],
 "metadata": {
  "kernelspec": {
   "name": "python3",
   "display_name": "Python 3.9.7 64-bit ('codf': conda)"
  },
  "language_info": {
   "codemirror_mode": {
    "name": "ipython",
    "version": 3
   },
   "file_extension": ".py",
   "mimetype": "text/x-python",
   "name": "python",
   "nbconvert_exporter": "python",
   "pygments_lexer": "ipython3",
   "version": "3.9.7"
  },
  "interpreter": {
   "hash": "ffcaa4669b97f765b02df1f6966c48b02b9fcf5eb0eb49575f6e8d3925a363e5"
  }
 },
 "nbformat": 4,
 "nbformat_minor": 4
}