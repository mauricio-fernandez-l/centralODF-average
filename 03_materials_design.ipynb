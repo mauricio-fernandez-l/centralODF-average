{
 "cells": [
  {
   "cell_type": "markdown",
   "metadata": {},
   "source": [
    "# Demo 3: Decomposition of tensors $\\mathbb{A}_{\\langle 2r \\rangle}$ for $r \\in \\{4,5\\}$\n",
    "\n",
    "* Author: Mauricio Fernández\n",
    "* Last update: 2020-06-14\n",
    "\n",
    "Table of contents\n",
    "\n",
    "* [1. Example for r = 4](#1.-Example-for-r=4)\n",
    "* [2. Example for r = 5](#2.-Example-for-r=5)"
   ]
  },
  {
   "cell_type": "markdown",
   "metadata": {},
   "source": [
    "## Description\n",
    "The present notebook demonstrates how the isotropic tensors $\\mathbb{D}_{\\langle 2r \\rangle \\alpha}$ can be used for given tensors $\\mathbb{A}_{\\langle r \\rangle}$ as discussed in the published work for materials design and preparation for orientation averages. The example for $r=4$ corresponds to the example for $r=4$ in the manuscript, documented section 3.1, equations (68) - (71). The example for $r=5$ corresponds to the example for $r=5$ in the manuscript, documented section 3.1, equations (72) - (73)."
   ]
  },
  {
   "cell_type": "code",
   "execution_count": 1,
   "metadata": {},
   "outputs": [],
   "source": [
    "import numpy as np\n",
    "\n",
    "import src.CentralODFAverage as cen\n",
    "import src.TensorCalculusNumpy as tn"
   ]
  },
  {
   "cell_type": "markdown",
   "metadata": {},
   "source": [
    "## 1. Example for r=4"
   ]
  },
  {
   "cell_type": "markdown",
   "metadata": {},
   "source": [
    "The following example corresponds to the example for r=4 in the manuscript, documented section 3.1, equations (68) - (71)."
   ]
  },
  {
   "cell_type": "markdown",
   "metadata": {},
   "source": [
    "Define tensor $\\mathbb{A}_{\\langle r \\rangle}$."
   ]
  },
  {
   "cell_type": "code",
   "execution_count": 2,
   "metadata": {},
   "outputs": [],
   "source": [
    "A = np.zeros((3,3,3,3))\n",
    "A[0,0,0,0] = 1\n",
    "A[0,1,0,0] = 2\n",
    "A[0,0,1,2] = 3"
   ]
  },
  {
   "cell_type": "markdown",
   "metadata": {},
   "source": [
    "Get $r$ and load from database directly as tensors."
   ]
  },
  {
   "cell_type": "code",
   "execution_count": 3,
   "metadata": {},
   "outputs": [
    {
     "name": "stdout",
     "output_type": "stream",
     "text": [
      "(5, 3, 3, 3, 3, 3, 3, 3, 3)\n"
     ]
    }
   ],
   "source": [
    "r = A.ndim\n",
    "n = 2*r\n",
    "Ds = cen.Dv_load(r, as_tensors=True)\n",
    "print(Ds.shape)"
   ]
  },
  {
   "cell_type": "markdown",
   "metadata": {},
   "source": [
    "Compute norms of $\\mathbb{D}_{\\langle 2r \\rangle\\alpha}[\\mathbb{A}_{\\langle r \\rangle}]$."
   ]
  },
  {
   "cell_type": "code",
   "execution_count": 4,
   "metadata": {},
   "outputs": [
    {
     "name": "stdout",
     "output_type": "stream",
     "text": [
      "Norm of A:\n",
      "\t3.7417\n",
      "Norm of isotropic and anisotropic parts of A\n",
      "\t0.4472\n",
      "\t3.7148\n",
      "Norms of D_{<2r>\\alpha}[A]\n",
      "\t0.4472\n",
      "\t1.9748\n",
      "\t2.0874\n",
      "\t2.0248\n",
      "\t1.2012\n"
     ]
    }
   ],
   "source": [
    "Aiso = tn.lm(Ds[0],A)\n",
    "Aaniso = A-Aiso\n",
    "print('Norm of A:\\n\\t%2.4f' % tn.nf(A))\n",
    "print('Norm of isotropic and anisotropic parts of A\\n\\t%2.4f\\n\\t%2.4f' % (tn.nf(Aiso),tn.nf(Aaniso)))\n",
    "print('Norms of D_{<2r>\\\\alpha}[A]')\n",
    "for i in range(r+1): print('\\t%2.4f' % tn.nf(tn.lm(Ds[i],A)))"
   ]
  },
  {
   "cell_type": "markdown",
   "metadata": {},
   "source": [
    "Minor symmetrized tensor $\\mathbb{A}_{\\langle r \\rangle}^m$."
   ]
  },
  {
   "cell_type": "code",
   "execution_count": 5,
   "metadata": {},
   "outputs": [
    {
     "name": "stdout",
     "output_type": "stream",
     "text": [
      "\n",
      "Norm of minor symmetric Am:\n",
      "\t2.7386\n",
      "Norm of isotropic and anisotropic parts of Am\n",
      "\t0.4472\n",
      "\t2.7019\n",
      "Norms of D_{<2r>\\alpha}[Am]\n",
      "\t0.4472\n",
      "\t0.6325\n",
      "\t1.9211\n",
      "\t1.3292\n",
      "\t1.2012\n"
     ]
    }
   ],
   "source": [
    "Am = (A\n",
    "     +np.transpose(A,axes=(1,0,2,3))\n",
    "     +np.transpose(A,axes=(0,1,3,2))\n",
    "     +np.transpose(A,axes=(1,0,3,2))\n",
    "     )/4\n",
    "Amiso = tn.lm(Ds[0],Am)\n",
    "Amaniso = Am-Amiso\n",
    "print('\\nNorm of minor symmetric Am:\\n\\t%2.4f' % tn.nf(Am))\n",
    "print('Norm of isotropic and anisotropic parts of Am\\n\\t%2.4f\\n\\t%2.4f' % (tn.nf(Amiso),tn.nf(Amaniso)))\n",
    "print('Norms of D_{<2r>\\\\alpha}[Am]')\n",
    "for i in range(r+1): print('\\t%2.4f' % tn.nf(tn.lm(Ds[i],Am)))"
   ]
  },
  {
   "cell_type": "markdown",
   "metadata": {},
   "source": [
    "Additionally major symmetrized tensor $\\mathbb{A}_{\\langle r \\rangle}^M$."
   ]
  },
  {
   "cell_type": "code",
   "execution_count": 6,
   "metadata": {},
   "outputs": [
    {
     "name": "stdout",
     "output_type": "stream",
     "text": [
      "\n",
      "Norm of additionaly major symmetric AM:\n",
      "\t2.0616\n",
      "Norm of isotropic and anisotropic parts of AM\n",
      "\t0.4472\n",
      "\t2.0125\n",
      "Norms of D_{<2r>\\alpha}[AM]\n",
      "\t0.4472\n",
      "\t0.0000\n",
      "\t1.6147\n",
      "\t0.0000\n",
      "\t1.2012\n"
     ]
    }
   ],
   "source": [
    "AM = (Am +np.transpose(Am,axes=(2,3,0,1)))/2\n",
    "\n",
    "AMiso = tn.lm(Ds[0],AM)\n",
    "AManiso = AM-AMiso\n",
    "print('\\nNorm of additionaly major symmetric AM:\\n\\t%2.4f' % tn.nf(AM))\n",
    "print('Norm of isotropic and anisotropic parts of AM\\n\\t%2.4f\\n\\t%2.4f' % (tn.nf(AMiso),tn.nf(AManiso)))\n",
    "print('Norms of D_{<2r>\\\\alpha}[AM]')\n",
    "for i in range(r+1): print('\\t%2.4f' % tn.nf(tn.lm(Ds[i],AM)))"
   ]
  },
  {
   "cell_type": "markdown",
   "metadata": {},
   "source": [
    "## 2. Example for r=5"
   ]
  },
  {
   "cell_type": "markdown",
   "metadata": {},
   "source": [
    "The following example corresponds to the example for $r=5$ in the manuscript, documented section 3.1, equations (72) - (73)."
   ]
  },
  {
   "cell_type": "markdown",
   "metadata": {},
   "source": [
    "Define tensor $\\mathbb{A}_{\\langle r \\rangle}$."
   ]
  },
  {
   "cell_type": "code",
   "execution_count": 7,
   "metadata": {},
   "outputs": [],
   "source": [
    "A = np.zeros((3,3,3,3,3))\n",
    "A[0,0,0,0,0] = 1\n",
    "A[0,1,0,2,0] = 2\n",
    "A[1,0,0,0,0] = 3\n",
    "A[0,0,1,0,0] = 4"
   ]
  },
  {
   "cell_type": "markdown",
   "metadata": {},
   "source": [
    "Get $r$ and load from database directly as tensors."
   ]
  },
  {
   "cell_type": "code",
   "execution_count": 8,
   "metadata": {},
   "outputs": [
    {
     "name": "stdout",
     "output_type": "stream",
     "text": [
      "(6, 3, 3, 3, 3, 3, 3, 3, 3, 3, 3)\n"
     ]
    }
   ],
   "source": [
    "r = A.ndim\n",
    "n = 2*r\n",
    "Ds = cen.Dv_load(r, as_tensors=True)\n",
    "print(Ds.shape)"
   ]
  },
  {
   "cell_type": "code",
   "execution_count": 9,
   "metadata": {},
   "outputs": [
    {
     "name": "stdout",
     "output_type": "stream",
     "text": [
      "Norm of A:\n",
      "\t5.4772\n",
      "Norm of isotropic and anisotropic parts of A\n",
      "\t0.6325\n",
      "\t5.4406\n",
      "Norms of D_{<2r>\\alpha}[A]\n",
      "\t0.6325\n",
      "\t2.4142\n",
      "\t2.7255\n",
      "\t3.0623\n",
      "\t1.7238\n",
      "\t1.9984\n"
     ]
    }
   ],
   "source": [
    "Aiso = tn.lm(Ds[0],A)\n",
    "Aaniso = A-Aiso\n",
    "print('Norm of A:\\n\\t%2.4f' % tn.nf(A))\n",
    "print('Norm of isotropic and anisotropic parts of A\\n\\t%2.4f\\n\\t%2.4f' % (tn.nf(Aiso),tn.nf(Aaniso)))\n",
    "print('Norms of D_{<2r>\\\\alpha}[A]')\n",
    "for i in range(r+1): print('\\t%2.4f' % tn.nf(tn.lm(Ds[i],A)))"
   ]
  },
  {
   "cell_type": "code",
   "execution_count": null,
   "metadata": {},
   "outputs": [],
   "source": []
  }
 ],
 "metadata": {
  "kernelspec": {
   "display_name": "Python 3",
   "language": "python",
   "name": "python3"
  },
  "language_info": {
   "codemirror_mode": {
    "name": "ipython",
    "version": 3
   },
   "file_extension": ".py",
   "mimetype": "text/x-python",
   "name": "python",
   "nbconvert_exporter": "python",
   "pygments_lexer": "ipython3",
   "version": "3.7.7"
  }
 },
 "nbformat": 4,
 "nbformat_minor": 4
}
