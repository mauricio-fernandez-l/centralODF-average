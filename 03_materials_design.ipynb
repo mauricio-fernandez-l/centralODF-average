{
 "cells": [
  {
   "cell_type": "markdown",
   "source": [
    "# Decomposition of tensors $\\mathbb{A}_{\\langle 2r \\rangle}$ for $r \\in \\{4,5\\}$\r\n",
    "\r\n",
    "* Author: Mauricio Fernández\r\n",
    "* Last update: 2021-10-05\r\n",
    "\r\n",
    "Table of contents\r\n",
    "\r\n",
    "* [1. Example for r = 4](#1.-Example-for-r=4)\r\n",
    "* [2. Example for r = 5](#2.-Example-for-r=5)"
   ],
   "metadata": {}
  },
  {
   "cell_type": "markdown",
   "source": [
    "## Description\n",
    "The present notebook demonstrates how the isotropic tensors $\\mathbb{D}_{\\langle 2r \\rangle \\alpha}$ can be used for given tensors $\\mathbb{A}_{\\langle r \\rangle}$ as discussed in the published work for materials design and preparation for orientation averages. The example for $r=4$ corresponds to the example for $r=4$ in the manuscript, documented section 3.1, equations (68) - (71). The example for $r=5$ corresponds to the example for $r=5$ in the manuscript, documented section 3.1, equations (72) - (73)."
   ],
   "metadata": {}
  },
  {
   "cell_type": "code",
   "execution_count": 1,
   "source": [
    "import numpy as np\r\n",
    "\r\n",
    "import odf_cen_av.d_tensors as dt\r\n",
    "import odf_cen_av.tensor_numpy as tn"
   ],
   "outputs": [],
   "metadata": {}
  },
  {
   "cell_type": "markdown",
   "source": [
    "## 1. Example for r=4"
   ],
   "metadata": {}
  },
  {
   "cell_type": "markdown",
   "source": [
    "The following example corresponds to the example for r=4 in the manuscript, documented section 3.1, equations (68) - (71)."
   ],
   "metadata": {}
  },
  {
   "cell_type": "markdown",
   "source": [
    "Define tensor $\\mathbb{A}_{\\langle r \\rangle}$."
   ],
   "metadata": {}
  },
  {
   "cell_type": "code",
   "execution_count": 2,
   "source": [
    "A = np.zeros((3,3,3,3))\r\n",
    "A[0,0,0,0] = 1\r\n",
    "A[0,1,0,0] = 2\r\n",
    "A[0,0,1,2] = 3"
   ],
   "outputs": [],
   "metadata": {}
  },
  {
   "cell_type": "markdown",
   "source": [
    "Get $r$ and load from database directly as tensors."
   ],
   "metadata": {}
  },
  {
   "cell_type": "code",
   "execution_count": 3,
   "source": [
    "r = A.ndim\r\n",
    "n = 2*r\r\n",
    "Ds = dt.Dv_load(r, as_tensors=True)\r\n",
    "print(Ds.shape)"
   ],
   "outputs": [
    {
     "output_type": "stream",
     "name": "stdout",
     "text": [
      "(5, 3, 3, 3, 3, 3, 3, 3, 3)\n"
     ]
    }
   ],
   "metadata": {}
  },
  {
   "cell_type": "markdown",
   "source": [
    "Compute norms of $\\mathbb{D}_{\\langle 2r \\rangle\\alpha}[\\mathbb{A}_{\\langle r \\rangle}]$."
   ],
   "metadata": {}
  },
  {
   "cell_type": "code",
   "execution_count": 4,
   "source": [
    "Aiso = tn.lm(Ds[0],A)\r\n",
    "Aaniso = A-Aiso\r\n",
    "print('Norm of A:\\n\\t%2.4f' % tn.nf(A))\r\n",
    "print('Norm of isotropic and anisotropic parts of A\\n\\t%2.4f\\n\\t%2.4f' % (tn.nf(Aiso),tn.nf(Aaniso)))\r\n",
    "print('Norms of D_{<2r>\\\\alpha}[A]')\r\n",
    "for i in range(r+1): print('\\t%2.4f' % tn.nf(tn.lm(Ds[i],A)))"
   ],
   "outputs": [
    {
     "output_type": "stream",
     "name": "stdout",
     "text": [
      "Norm of A:\n",
      "\t3.7417\n",
      "Norm of isotropic and anisotropic parts of A\n",
      "\t0.4472\n",
      "\t3.7148\n",
      "Norms of D_{<2r>\\alpha}[A]\n",
      "\t0.4472\n",
      "\t1.9748\n",
      "\t2.0874\n",
      "\t2.0248\n",
      "\t1.2012\n"
     ]
    }
   ],
   "metadata": {}
  },
  {
   "cell_type": "markdown",
   "source": [
    "Minor symmetrized tensor $\\mathbb{A}_{\\langle r \\rangle}^m$."
   ],
   "metadata": {}
  },
  {
   "cell_type": "code",
   "execution_count": 5,
   "source": [
    "Am = (A\r\n",
    "     +np.transpose(A,axes=(1,0,2,3))\r\n",
    "     +np.transpose(A,axes=(0,1,3,2))\r\n",
    "     +np.transpose(A,axes=(1,0,3,2))\r\n",
    "     )/4\r\n",
    "Amiso = tn.lm(Ds[0],Am)\r\n",
    "Amaniso = Am-Amiso\r\n",
    "print('\\nNorm of minor symmetric Am:\\n\\t%2.4f' % tn.nf(Am))\r\n",
    "print('Norm of isotropic and anisotropic parts of Am\\n\\t%2.4f\\n\\t%2.4f' % (tn.nf(Amiso),tn.nf(Amaniso)))\r\n",
    "print('Norms of D_{<2r>\\\\alpha}[Am]')\r\n",
    "for i in range(r+1): print('\\t%2.4f' % tn.nf(tn.lm(Ds[i],Am)))"
   ],
   "outputs": [
    {
     "output_type": "stream",
     "name": "stdout",
     "text": [
      "\n",
      "Norm of minor symmetric Am:\n",
      "\t2.7386\n",
      "Norm of isotropic and anisotropic parts of Am\n",
      "\t0.4472\n",
      "\t2.7019\n",
      "Norms of D_{<2r>\\alpha}[Am]\n",
      "\t0.4472\n",
      "\t0.6325\n",
      "\t1.9211\n",
      "\t1.3292\n",
      "\t1.2012\n"
     ]
    }
   ],
   "metadata": {}
  },
  {
   "cell_type": "markdown",
   "source": [
    "Additionally major symmetrized tensor $\\mathbb{A}_{\\langle r \\rangle}^M$."
   ],
   "metadata": {}
  },
  {
   "cell_type": "code",
   "execution_count": 6,
   "source": [
    "AM = (Am +np.transpose(Am,axes=(2,3,0,1)))/2\r\n",
    "\r\n",
    "AMiso = tn.lm(Ds[0],AM)\r\n",
    "AManiso = AM-AMiso\r\n",
    "print('\\nNorm of additionaly major symmetric AM:\\n\\t%2.4f' % tn.nf(AM))\r\n",
    "print('Norm of isotropic and anisotropic parts of AM\\n\\t%2.4f\\n\\t%2.4f' % (tn.nf(AMiso),tn.nf(AManiso)))\r\n",
    "print('Norms of D_{<2r>\\\\alpha}[AM]')\r\n",
    "for i in range(r+1): print('\\t%2.4f' % tn.nf(tn.lm(Ds[i],AM)))"
   ],
   "outputs": [
    {
     "output_type": "stream",
     "name": "stdout",
     "text": [
      "\n",
      "Norm of additionaly major symmetric AM:\n",
      "\t2.0616\n",
      "Norm of isotropic and anisotropic parts of AM\n",
      "\t0.4472\n",
      "\t2.0125\n",
      "Norms of D_{<2r>\\alpha}[AM]\n",
      "\t0.4472\n",
      "\t0.0000\n",
      "\t1.6147\n",
      "\t0.0000\n",
      "\t1.2012\n"
     ]
    }
   ],
   "metadata": {}
  },
  {
   "cell_type": "markdown",
   "source": [
    "## 2. Example for r=5"
   ],
   "metadata": {}
  },
  {
   "cell_type": "markdown",
   "source": [
    "The following example corresponds to the example for $r=5$ in the manuscript, documented section 3.1, equations (72) - (73)."
   ],
   "metadata": {}
  },
  {
   "cell_type": "markdown",
   "source": [
    "Define tensor $\\mathbb{A}_{\\langle r \\rangle}$."
   ],
   "metadata": {}
  },
  {
   "cell_type": "code",
   "execution_count": 7,
   "source": [
    "A = np.zeros((3,3,3,3,3))\r\n",
    "A[0,0,0,0,0] = 1\r\n",
    "A[0,1,0,2,0] = 2\r\n",
    "A[1,0,0,0,0] = 3\r\n",
    "A[0,0,1,0,0] = 4"
   ],
   "outputs": [],
   "metadata": {}
  },
  {
   "cell_type": "markdown",
   "source": [
    "Get $r$ and load from database directly as tensors."
   ],
   "metadata": {}
  },
  {
   "cell_type": "code",
   "execution_count": 8,
   "source": [
    "r = A.ndim\r\n",
    "n = 2*r\r\n",
    "Ds = dt.Dv_load(r, as_tensors=True)\r\n",
    "print(Ds.shape)"
   ],
   "outputs": [
    {
     "output_type": "stream",
     "name": "stdout",
     "text": [
      "(6, 3, 3, 3, 3, 3, 3, 3, 3, 3, 3)\n"
     ]
    }
   ],
   "metadata": {}
  },
  {
   "cell_type": "code",
   "execution_count": 9,
   "source": [
    "Aiso = tn.lm(Ds[0],A)\r\n",
    "Aaniso = A-Aiso\r\n",
    "print('Norm of A:\\n\\t%2.4f' % tn.nf(A))\r\n",
    "print('Norm of isotropic and anisotropic parts of A\\n\\t%2.4f\\n\\t%2.4f' % (tn.nf(Aiso),tn.nf(Aaniso)))\r\n",
    "print('Norms of D_{<2r>\\\\alpha}[A]')\r\n",
    "for i in range(r+1): print('\\t%2.4f' % tn.nf(tn.lm(Ds[i],A)))"
   ],
   "outputs": [
    {
     "output_type": "stream",
     "name": "stdout",
     "text": [
      "Norm of A:\n",
      "\t5.4772\n",
      "Norm of isotropic and anisotropic parts of A\n",
      "\t0.6325\n",
      "\t5.4406\n",
      "Norms of D_{<2r>\\alpha}[A]\n",
      "\t0.6325\n",
      "\t2.4142\n",
      "\t2.7255\n",
      "\t3.0623\n",
      "\t1.7238\n",
      "\t1.9984\n"
     ]
    }
   ],
   "metadata": {}
  },
  {
   "cell_type": "code",
   "execution_count": null,
   "source": [],
   "outputs": [],
   "metadata": {}
  }
 ],
 "metadata": {
  "kernelspec": {
   "name": "python3",
   "display_name": "Python 3.9.7 64-bit ('codf': conda)"
  },
  "language_info": {
   "codemirror_mode": {
    "name": "ipython",
    "version": 3
   },
   "file_extension": ".py",
   "mimetype": "text/x-python",
   "name": "python",
   "nbconvert_exporter": "python",
   "pygments_lexer": "ipython3",
   "version": "3.9.7"
  },
  "interpreter": {
   "hash": "ffcaa4669b97f765b02df1f6966c48b02b9fcf5eb0eb49575f6e8d3925a363e5"
  }
 },
 "nbformat": 4,
 "nbformat_minor": 4
}